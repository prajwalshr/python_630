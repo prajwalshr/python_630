{
 "cells": [
  {
   "cell_type": "code",
   "execution_count": null,
   "id": "2776ad17",
   "metadata": {},
   "outputs": [],
   "source": [
    "# class A:\n",
    "#     pass\n",
    "# class B(A):\n",
    "#     pass\n",
    "\n",
    "# obj = B()"
   ]
  },
  {
   "cell_type": "code",
   "execution_count": 4,
   "id": "69d3289e",
   "metadata": {},
   "outputs": [
    {
     "name": "stdout",
     "output_type": "stream",
     "text": [
      "Enter name =Ram\n",
      "Enter age =23\n",
      "Enter add =Rew\n",
      "Helloworld I am Ram. I am from Rew. I am 23\n",
      "Ram 23 Rew\n"
     ]
    }
   ],
   "source": [
    "class Info:\n",
    "    def __init__(self):\n",
    "        self.name = input(\"Enter name =\")\n",
    "        self.age = int(input(\"Enter age =\"))\n",
    "        self.add = input(\"Enter add =\")\n",
    "        \n",
    "    def Info(self):\n",
    "        print(self.name,self.age,self.add)\n",
    "        \n",
    "        \n",
    "class Data(Info):\n",
    "    def data(self):\n",
    "        return f\"Helloworld I am {self.name}. I am from {self.add}. I am {self.age}\"\n",
    "    \n",
    "obj = Data()\n",
    "print(obj.data())\n",
    "obj.Info()    "
   ]
  },
  {
   "cell_type": "code",
   "execution_count": null,
   "id": "b20ef6d9",
   "metadata": {},
   "outputs": [],
   "source": [
    "class Info:\n",
    "    def __init__(self):\n",
    "        self.name=name\n",
    "        self.age=age\n",
    "        self.add=add\n",
    "    \n",
    "        \n",
    "    def Info(self):\n",
    "        print(self.name,self.age,self.add)\n",
    "        \n",
    "        \n",
    "class Data(Info):\n",
    "    def data(self):\n",
    "        return f\"Helloworld I am {self.name}. I am from {self.add}. I am {self.age}\"\n",
    "\n",
    "name = input(\"Enter name =\")\n",
    "age = int(input(\"Enter age =\")\n",
    "add = input(\"Enter add =\")\n",
    "obj = Data()\n",
    "print(obj.data())\n",
    "obj.Info()    "
   ]
  },
  {
   "cell_type": "code",
   "execution_count": null,
   "id": "50afe74d",
   "metadata": {},
   "outputs": [],
   "source": [
    "#multi level inheritance\n",
    "class A:\n",
    "    pass\n",
    "\n",
    "class B(A):\n",
    "    pass\n",
    "\n",
    "class C(B)\n",
    "    pass\n",
    "\n",
    "obj = C()"
   ]
  },
  {
   "cell_type": "code",
   "execution_count": null,
   "id": "2ff6bf7d",
   "metadata": {},
   "outputs": [],
   "source": [
    "#multiple\n",
    "class A:\n",
    "    pass\n",
    "\n",
    "class B:\n",
    "    pass\n",
    "\n",
    "class C(A,B)\n",
    "    pass\n",
    "\n",
    "obj = C()"
   ]
  },
  {
   "cell_type": "code",
   "execution_count": 10,
   "id": "2023a3f5",
   "metadata": {},
   "outputs": [
    {
     "name": "stdout",
     "output_type": "stream",
     "text": [
      "Enter name =ram\n",
      "Enter age =23\n",
      "Enter add =r\n",
      "Helloworld I am ram. I am from r. I am 23\n",
      "ram 23 r\n"
     ]
    }
   ],
   "source": [
    "class Info:\n",
    "    def __init__(self,age,add):\n",
    "        self.age=age\n",
    "        self.add=add\n",
    "    \n",
    "        \n",
    "    def Info(self):\n",
    "        print(self.name,self.age,self.add)\n",
    "        \n",
    "        \n",
    "class Data(Info):\n",
    "    def __init__(self,name,age,add):\n",
    "        self.name = name\n",
    "        Info.__init__(self,age,add)\n",
    "    def data(self):\n",
    "        return f\"Helloworld I am {self.name}. I am from {self.add}. I am {self.age}\"\n",
    "\n",
    "name = input(\"Enter name =\")\n",
    "age = int(input(\"Enter age =\"))\n",
    "add = input(\"Enter add =\")\n",
    "obj = Data(name,age,add)\n",
    "print(obj.data())\n",
    "obj.Info()    "
   ]
  },
  {
   "cell_type": "code",
   "execution_count": 9,
   "id": "1488498f",
   "metadata": {},
   "outputs": [
    {
     "name": "stdout",
     "output_type": "stream",
     "text": [
      "Enter name =ram\n",
      "Enter age =23\n",
      "Enter add =rew\n",
      "Helloworld I am ram. I am from rew. I am 23\n",
      "ram 23 rew\n"
     ]
    }
   ],
   "source": [
    "#mult level\n",
    "class Address:\n",
    "    def __init__(self,age):\n",
    "        self.add=add\n",
    "class Info(Address):\n",
    "    def __init__(self,age,add):\n",
    "        self.age=age\n",
    "        Address.__init__(self,add)\n",
    "    \n",
    "        \n",
    "    def Info(self):\n",
    "        print(self.name,self.age,self.add)\n",
    "        \n",
    "        \n",
    "class Data(Info):\n",
    "    def __init__(self,name,age,add):\n",
    "        self.name = name\n",
    "        Info.__init__(self,age,add)\n",
    "    def data(self):\n",
    "        return f\"Helloworld I am {self.name}. I am from {self.add}. I am {self.age}\"\n",
    "\n",
    "name = input(\"Enter name =\")\n",
    "age = int(input(\"Enter age =\"))\n",
    "add = input(\"Enter add =\")\n",
    "obj = Data(name,age,add)\n",
    "print(obj.data())\n",
    "obj.Info()    "
   ]
  },
  {
   "cell_type": "code",
   "execution_count": 14,
   "id": "ddb12a10",
   "metadata": {},
   "outputs": [
    {
     "name": "stdout",
     "output_type": "stream",
     "text": [
      "Enter name =ram\n",
      "Enter age =23\n",
      "Enter add =er\n",
      "Helloworld I am ram. I am from er. I am 23\n",
      "23\n"
     ]
    }
   ],
   "source": [
    "#multi level\n",
    "class Address:\n",
    "    def __init__(self,add):\n",
    "        self.add=add\n",
    "        \n",
    "    def add(self):\n",
    "        print(self.add)\n",
    "    \n",
    "    \n",
    "class Age:\n",
    "    def __init__(self,age):\n",
    "        self.age=age\n",
    "        \n",
    "     \n",
    "    def Info(self):\n",
    "        print(self.age)\n",
    "        \n",
    "        \n",
    "class Data(Address,Age):\n",
    "    def __init__(self,name,age,add):\n",
    "        self.name = name\n",
    "        Age.__init__(self,age)\n",
    "        Address.__init__(self,add)\n",
    "        \n",
    "    def data(self):\n",
    "        return f\"Helloworld I am {self.name}. I am from {self.add}. I am {self.age}\"\n",
    "\n",
    "name = input(\"Enter name =\")\n",
    "age = int(input(\"Enter age =\"))\n",
    "add = input(\"Enter add =\")\n",
    "obj = Data(name,age,add)\n",
    "print(obj.data())\n",
    "obj.Info()    "
   ]
  },
  {
   "cell_type": "code",
   "execution_count": 18,
   "id": "0f4b3442",
   "metadata": {},
   "outputs": [
    {
     "name": "stdout",
     "output_type": "stream",
     "text": [
      "Ram\n",
      "45\n",
      "Ktm\n"
     ]
    }
   ],
   "source": [
    "#public\n",
    "class Info:\n",
    "    def __init__(self):\n",
    "        self.name = \"Ram\"\n",
    "        self.age = 45\n",
    "        self.add = \"Ktm\"\n",
    "        \n",
    "obj = Info()\n",
    "print(obj.name)\n",
    "print(obj.age)\n",
    "print(obj.add)"
   ]
  },
  {
   "cell_type": "code",
   "execution_count": 20,
   "id": "a60f9099",
   "metadata": {},
   "outputs": [
    {
     "name": "stdout",
     "output_type": "stream",
     "text": [
      "Ram\n",
      "45\n",
      "Ktm\n"
     ]
    }
   ],
   "source": [
    "#protected\n",
    "class Info:\n",
    "    def __init__(self):\n",
    "        self._name = \"Ram\"\n",
    "        self._age = 45\n",
    "        self._add = \"Ktm\"\n",
    "        \n",
    "class Data(Info):\n",
    "    def data(self):\n",
    "        print(f\"Hello wprld I am {self._name}. I am from {self._add}. I am {self._age}\")\n",
    "        \n",
    "obj = Info()\n",
    "print(obj._name)\n",
    "print(obj._age)\n",
    "print(obj._add)"
   ]
  },
  {
   "cell_type": "code",
   "execution_count": 23,
   "id": "50a9df51",
   "metadata": {},
   "outputs": [
    {
     "name": "stdout",
     "output_type": "stream",
     "text": [
      "Ram\n",
      "45\n",
      "Hello wprld I am Ram. I am from Ktm. I am 45\n",
      "None\n"
     ]
    }
   ],
   "source": [
    "#private\n",
    "class Info:\n",
    "    def __init__(self):\n",
    "        self._name = \"Ram\"\n",
    "        self._age = 45\n",
    "        self.__add = \"Ktm\"   #private\n",
    "        \n",
    "    def info(self):\n",
    "        print(f\"Hello wprld I am {self._name}. I am from {self.__add}. I am {self._age}\")\n",
    "        \n",
    "        \n",
    "class Data(Info):\n",
    "    def data(self):\n",
    "        print(f\"Hello wprld I am {self._name}. I am from {self.__add}. I am {self._age}\")\n",
    "        \n",
    "obj = Data()\n",
    "print(obj._name)\n",
    "print(obj._age)\n",
    "print(obj.info())\n",
    "#print(obj.data())\n"
   ]
  },
  {
   "cell_type": "code",
   "execution_count": null,
   "id": "441e9eee",
   "metadata": {},
   "outputs": [],
   "source": [
    "#private\n",
    "class Info:\n",
    "    def __init__(self):\n",
    "        self.__name = \"Ram\"\n",
    "        self.__age = 45\n",
    "        self.__add = \"Ktm\"   #private\n",
    "        \n",
    "    def info(self):\n",
    "        print(f\"Hello wprld I am {self.__name}. I am from {self.__add}. I am {self.__age}\")\n",
    "        \n",
    "        \n",
    "class Data(Info):\n",
    "    def data(self):\n",
    "       Info.info(self)        \n",
    "obj = Data()\n",
    "print(obj._name)\n",
    "print(obj._age)\n",
    "print(obj.info())\n",
    "#print(obj.data())\n"
   ]
  },
  {
   "cell_type": "code",
   "execution_count": 24,
   "id": "a4e0a907",
   "metadata": {},
   "outputs": [
    {
     "name": "stdout",
     "output_type": "stream",
     "text": [
      "Ram\n",
      "45\n",
      "Ktm\n"
     ]
    }
   ],
   "source": [
    "#private  converting private into public\n",
    "class Info:\n",
    "    def __init__(self):\n",
    "        self.__name = \"Ram\"\n",
    "        self.__age = 45\n",
    "        self.__add = \"Ktm\"   #private\n",
    "\n",
    "obj = Info()\n",
    "print(obj._Info__name)\n",
    "print(obj._Info__age)\n",
    "print(obj._Info__add)"
   ]
  },
  {
   "cell_type": "code",
   "execution_count": null,
   "id": "c40735be",
   "metadata": {},
   "outputs": [],
   "source": []
  }
 ],
 "metadata": {
  "kernelspec": {
   "display_name": "Python 3 (ipykernel)",
   "language": "python",
   "name": "python3"
  },
  "language_info": {
   "codemirror_mode": {
    "name": "ipython",
    "version": 3
   },
   "file_extension": ".py",
   "mimetype": "text/x-python",
   "name": "python",
   "nbconvert_exporter": "python",
   "pygments_lexer": "ipython3",
   "version": "3.10.9"
  }
 },
 "nbformat": 4,
 "nbformat_minor": 5
}
