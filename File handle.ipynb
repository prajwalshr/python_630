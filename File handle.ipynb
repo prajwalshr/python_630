{
 "cells": [
  {
   "cell_type": "code",
   "execution_count": 2,
   "id": "39f14c54",
   "metadata": {},
   "outputs": [],
   "source": [
    "# # file = open('<file_name>', '<mode>')\n",
    "# # file.close\n",
    "\n",
    "# # with open ('<file_name') as file:\n",
    "# #     <opeation>\n",
    "\n",
    "# modes\n",
    "# r > read\n",
    "# x > create\n",
    "# w > write\n",
    "# a > append"
   ]
  },
  {
   "cell_type": "code",
   "execution_count": 3,
   "id": "db9ca13d",
   "metadata": {},
   "outputs": [],
   "source": [
    "file = open('data.txt', 'x')\n",
    "file.close()"
   ]
  },
  {
   "cell_type": "code",
   "execution_count": 1,
   "id": "28882017",
   "metadata": {},
   "outputs": [
    {
     "name": "stdout",
     "output_type": "stream",
     "text": [
      "1.Hello world\n",
      "2.Hello world\n",
      "3.Hello world\n",
      "4.Hello world\n",
      "5.Hello world\n",
      "6.Hello world\n",
      "7.Hello world\n",
      "8.Hello world\n",
      "\n",
      "\n",
      "<class 'str'>\n"
     ]
    }
   ],
   "source": [
    "file = open('data.txt', 'r')\n",
    "x =file.read()\n",
    "print(x)\n",
    "print(type(x))\n",
    "file.close()"
   ]
  },
  {
   "cell_type": "code",
   "execution_count": 3,
   "id": "e236fed6",
   "metadata": {},
   "outputs": [
    {
     "data": {
      "text/plain": [
       "'1.Hello world\\n2.Hello world\\n3.Hello world\\n4.Hello world\\n5.Hello world\\n6.Hello world\\n7.Hello world\\n8.Hello world\\n\\n'"
      ]
     },
     "execution_count": 3,
     "metadata": {},
     "output_type": "execute_result"
    }
   ],
   "source": [
    "x"
   ]
  },
  {
   "cell_type": "code",
   "execution_count": 4,
   "id": "2bd2e0d6",
   "metadata": {},
   "outputs": [],
   "source": [
    "y = x.split('\\n')"
   ]
  },
  {
   "cell_type": "code",
   "execution_count": 5,
   "id": "f5e0b3d4",
   "metadata": {},
   "outputs": [
    {
     "name": "stdout",
     "output_type": "stream",
     "text": [
      "Enter line no = 2\n"
     ]
    },
    {
     "data": {
      "text/plain": [
       "'2.Hello world'"
      ]
     },
     "execution_count": 5,
     "metadata": {},
     "output_type": "execute_result"
    }
   ],
   "source": [
    "line_no=int(input(\"Enter line no = \"))\n",
    "y[line_no-1]\n"
   ]
  },
  {
   "cell_type": "code",
   "execution_count": 6,
   "id": "d9ab3549",
   "metadata": {},
   "outputs": [],
   "source": [
    "# #write\n",
    "# file=open('<file_name>','w')\n",
    "# <operation>\n",
    "# file_close"
   ]
  },
  {
   "cell_type": "code",
   "execution_count": 7,
   "id": "e862cf4d",
   "metadata": {},
   "outputs": [],
   "source": [
    "file = open('data1.txt','w')\n",
    "file.write(\"Hello world\")\n",
    "file.close()\n",
    "\n"
   ]
  },
  {
   "cell_type": "code",
   "execution_count": 5,
   "id": "99dc4358",
   "metadata": {
    "scrolled": true
   },
   "outputs": [
    {
     "name": "stdout",
     "output_type": "stream",
     "text": [
      "Enter n = 2\n",
      "Enter name = er\n",
      "Enter price = 32\n",
      "Enter quantity = 3\n",
      "Enter name = ew\n",
      "Enter price = 2\n",
      "Enter quantity = 2\n",
      "er 32 3.0 96.0\n",
      "ew 2 2.0 4.0\n",
      "\n"
     ]
    }
   ],
   "source": [
    "info = \"\"\n",
    "n = int(input(\"Enter n = \"))\n",
    "for i in range(n):\n",
    "    name = input(\"Enter name = \")\n",
    "    price = int(input(\"Enter price = \"))\n",
    "    quantity = float(input(\"Enter quantity = \"))\n",
    "    total = price*quantity\n",
    "    data = f\"{name} {price} {quantity} {total}\\n\"\n",
    "    info = info + data\n",
    "\n",
    "print(info)\n",
    "file = open('data1.txt','w')\n",
    "file.write(info)\n",
    "file.close()"
   ]
  },
  {
   "cell_type": "code",
   "execution_count": 1,
   "id": "06ac0a3a",
   "metadata": {},
   "outputs": [
    {
     "name": "stdout",
     "output_type": "stream",
     "text": [
      "Enter n = 2\n",
      "Enter name = as\n",
      "Enter price = 2\n",
      "Enter quantity = 1\n",
      "Enter name = er\n",
      "Enter price = 2\n",
      "Enter quantity = 3\n",
      "as 2 1.0 2.0\n",
      "er 2 3.0 6.0\n",
      "\n"
     ]
    }
   ],
   "source": [
    "info = \"\"\n",
    "n = int(input(\"Enter n = \"))\n",
    "for i in range(n):\n",
    "    name = input(\"Enter name = \")\n",
    "    price = int(input(\"Enter price = \"))\n",
    "    quantity = float(input(\"Enter quantity = \"))\n",
    "    total = price*quantity\n",
    "    data = f\"{name} {price} {quantity} {total}\\n\"\n",
    "    info = info + data\n",
    "\n",
    "print(info)\n",
    "file = open('bill.txt','a')\n",
    "file.write(info)\n",
    "file.close()"
   ]
  },
  {
   "cell_type": "code",
   "execution_count": 3,
   "id": "be9f8128",
   "metadata": {},
   "outputs": [
    {
     "name": "stdout",
     "output_type": "stream",
     "text": [
      "Enter name = rre\n",
      "Enter price = 3\n",
      "Enter quantity = 2\n",
      "Enter y for next entriesy\n",
      "Enter name = er\n",
      "Enter price = 3\n",
      "Enter quantity = 3\n",
      "Enter y for next entries\n"
     ]
    }
   ],
   "source": [
    "file = open('bill.txt','a')\n",
    "while True:\n",
    "    name = input(\"Enter name = \")\n",
    "    price = int(input(\"Enter price = \"))\n",
    "    quantity = float(input(\"Enter quantity = \"))\n",
    "    total = price*quantity\n",
    "    data = f\"{name} {price} {quantity} {total}\\n\"\n",
    "    file.write(data)\n",
    "    x = input(\"Enter y for next entries\")\n",
    "    if x == 'y':\n",
    "        continue\n",
    "    else:\n",
    "        break\n",
    "file.close()"
   ]
  },
  {
   "cell_type": "code",
   "execution_count": 5,
   "id": "f4d0d77e",
   "metadata": {},
   "outputs": [
    {
     "name": "stdout",
     "output_type": "stream",
     "text": [
      "Enter name = qw\n",
      "Enter price = 1\n",
      "Enter quantity = 2\n",
      "Press Enter for next entries\n",
      "Enter name = w\n",
      "Enter price = 2\n",
      "Enter quantity = 2\n",
      "Press Enter for next entries\n",
      "Enter name = er\n",
      "Enter price = 2\n",
      "Enter quantity = 3\n",
      "Press Enter for next entriess\n"
     ]
    }
   ],
   "source": [
    "file = open('bill.txt','a')\n",
    "while True:\n",
    "    name = input(\"Enter name = \")\n",
    "    price = int(input(\"Enter price = \"))\n",
    "    quantity = float(input(\"Enter quantity = \"))\n",
    "    total = price*quantity\n",
    "    data = f\"{name} {price} {quantity} {total}\\n\"\n",
    "    file.write(data)\n",
    "    x = input(\"Press Enter for next entries\")\n",
    "    if x == '':\n",
    "        continue\n",
    "    else:\n",
    "        break\n",
    "file.close()"
   ]
  },
  {
   "cell_type": "code",
   "execution_count": 7,
   "id": "35f276db",
   "metadata": {},
   "outputs": [
    {
     "name": "stdout",
     "output_type": "stream",
     "text": [
      "Enter name = apple\n",
      "Enter price = 1\n",
      "Enter quantity = 2\n",
      "Press Enter for next entries\n",
      "Enter name = banana\n",
      "Enter price = 2\n",
      "Enter quantity = 3\n",
      "Press Enter for next entriesd\n"
     ]
    }
   ],
   "source": [
    "file = open('bill.csv','a')\n",
    "\n",
    "while True:\n",
    "    name = input(\"Enter name = \")\n",
    "    price = int(input(\"Enter price = \"))\n",
    "    quantity = float(input(\"Enter quantity = \"))\n",
    "    total = price*quantity\n",
    "    data = f\"{name}, {price}, {quantity}, {total}\\n\"\n",
    "    file.write(data)\n",
    "    x = input(\"Press Enter for next entries\")\n",
    "    if x == '':\n",
    "        continue\n",
    "    else:\n",
    "        break\n",
    "file.close()"
   ]
  },
  {
   "cell_type": "code",
   "execution_count": 1,
   "id": "0344badc",
   "metadata": {},
   "outputs": [],
   "source": [
    "file = open('bill1.csv','a')\n",
    "file.write('Product,Price, Quantity,Total\\n')\n",
    "file.close()"
   ]
  },
  {
   "cell_type": "code",
   "execution_count": 4,
   "id": "c66545a9",
   "metadata": {},
   "outputs": [
    {
     "name": "stdout",
     "output_type": "stream",
     "text": [
      "Enter name = apple\n",
      "Enter price = 2\n",
      "Enter quantity = 1\n",
      "Press Enter for next entries\n",
      "Enter name = er\n",
      "Enter price = 2\n",
      "Enter quantity = 3\n",
      "Press Enter for next entriesd\n"
     ]
    }
   ],
   "source": [
    "file = open('bill1.csv','a')\n",
    "while True:\n",
    "    name = input(\"Enter name = \")\n",
    "    price = int(input(\"Enter price = \"))\n",
    "    quantity = float(input(\"Enter quantity = \"))\n",
    "    total = price*quantity\n",
    "    data = f\"{name}, {price}, {quantity}, {total}\\n\"\n",
    "    file.write(data)\n",
    "    x = input(\"Press Enter for next entries\")\n",
    "    if x == '':\n",
    "        continue\n",
    "    else:\n",
    "        break\n",
    "\n",
    "file.close()\n"
   ]
  },
  {
   "cell_type": "code",
   "execution_count": 1,
   "id": "0f07ce9e",
   "metadata": {},
   "outputs": [
    {
     "ename": "NameError",
     "evalue": "name 'file' is not defined",
     "output_type": "error",
     "traceback": [
      "\u001b[1;31m---------------------------------------------------------------------------\u001b[0m",
      "\u001b[1;31mNameError\u001b[0m                                 Traceback (most recent call last)",
      "Cell \u001b[1;32mIn[1], line 1\u001b[0m\n\u001b[1;32m----> 1\u001b[0m \u001b[43mfile\u001b[49m\u001b[38;5;241m.\u001b[39mclose()\n",
      "\u001b[1;31mNameError\u001b[0m: name 'file' is not defined"
     ]
    }
   ],
   "source": [
    "file.close()"
   ]
  },
  {
   "cell_type": "code",
   "execution_count": null,
   "id": "9aac9dfa",
   "metadata": {},
   "outputs": [],
   "source": []
  }
 ],
 "metadata": {
  "kernelspec": {
   "display_name": "Python 3 (ipykernel)",
   "language": "python",
   "name": "python3"
  },
  "language_info": {
   "codemirror_mode": {
    "name": "ipython",
    "version": 3
   },
   "file_extension": ".py",
   "mimetype": "text/x-python",
   "name": "python",
   "nbconvert_exporter": "python",
   "pygments_lexer": "ipython3",
   "version": "3.10.9"
  }
 },
 "nbformat": 4,
 "nbformat_minor": 5
}
