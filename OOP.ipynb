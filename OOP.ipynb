{
 "cells": [
  {
   "cell_type": "code",
   "execution_count": 1,
   "id": "a5a8ecce",
   "metadata": {},
   "outputs": [],
   "source": [
    "# #A class is a blueprint for the object\n",
    "# class Python:  #1st letter of the classname should be capital\n",
    "#     pass\n",
    "# object - it initialize the class\n",
    "# obj = Python()\n",
    "# Methods- are functions defined inside the body of a class"
   ]
  },
  {
   "cell_type": "code",
   "execution_count": null,
   "id": "85a86689",
   "metadata": {},
   "outputs": [],
   "source": [
    "# class <class_name>:\n",
    "#     <method>\n",
    "#     <method>\n",
    "    \n",
    "# obj = <class_name>()"
   ]
  },
  {
   "cell_type": "code",
   "execution_count": 5,
   "id": "de939d8b",
   "metadata": {},
   "outputs": [
    {
     "name": "stdout",
     "output_type": "stream",
     "text": [
      "Hello World\n"
     ]
    }
   ],
   "source": [
    "class Hello:\n",
    "    @staticmethod  # does not use initialized class variable\n",
    "    def hello():\n",
    "        print(\"Hello World\")\n",
    "        \n",
    "obj = Hello()\n",
    "obj.hello()"
   ]
  },
  {
   "cell_type": "code",
   "execution_count": 8,
   "id": "3261a188",
   "metadata": {},
   "outputs": [
    {
     "name": "stdout",
     "output_type": "stream",
     "text": [
      "Hello World\n"
     ]
    }
   ],
   "source": [
    "class Hello:\n",
    "    \n",
    "    def hello(self):  # use new variable defined in a class\n",
    "        print(\"Hello World\")\n",
    "        \n",
    "obj = Hello()\n",
    "obj.hello()"
   ]
  },
  {
   "cell_type": "code",
   "execution_count": 10,
   "id": "fe8f5f9a",
   "metadata": {},
   "outputs": [
    {
     "name": "stdout",
     "output_type": "stream",
     "text": [
      "110\n",
      "130\n"
     ]
    }
   ],
   "source": [
    "class Area:\n",
    "    @staticmethod  # decorator\n",
    "    def area(l,b):\n",
    "        a = l*b\n",
    "        print(a)\n",
    "    @staticmethod\n",
    "    def volume(l,b,h):\n",
    "        v = l*b*h\n",
    "        print(v)\n",
    "        \n",
    "obj = Area()\n",
    "obj.area(10,11)\n",
    "obj.volume(10,1,13)"
   ]
  },
  {
   "cell_type": "code",
   "execution_count": null,
   "id": "2e46c3d8",
   "metadata": {},
   "outputs": [],
   "source": [
    "class Area:\n",
    "    @staticmethod  # decorator\n",
    "    def area(l,b):\n",
    "        a = l*b\n",
    "        print(a)\n",
    "    @staticmethod\n",
    "    def volume(l,b,h):\n",
    "        v = l*b*h\n",
    "        print(v)\n",
    "        \n",
    "obj = Area()\n",
    "obj.area(10,11)\n",
    "obj.volume(10,1,13)"
   ]
  },
  {
   "cell_type": "code",
   "execution_count": 11,
   "id": "53fc9b80",
   "metadata": {},
   "outputs": [
    {
     "ename": "SyntaxError",
     "evalue": "invalid syntax (3621182493.py, line 2)",
     "output_type": "error",
     "traceback": [
      "\u001b[1;36m  Cell \u001b[1;32mIn[11], line 2\u001b[1;36m\u001b[0m\n\u001b[1;33m    def__init__(self,l,b,h):\u001b[0m\n\u001b[1;37m                           ^\u001b[0m\n\u001b[1;31mSyntaxError\u001b[0m\u001b[1;31m:\u001b[0m invalid syntax\n"
     ]
    }
   ],
   "source": [
    "class Cal:\n",
    "    def __init__(self,l,b,h):  #reinitilize the value\n",
    "        self.len = l\n",
    "        self.brd = b\n",
    "        self.hei = h\n",
    "    def area(self):\n",
    "        a = self.len*self.brd\n",
    "        print(a)\n",
    "    def volume(self):\n",
    "        v = self.len*self.brd*self.hei\n",
    "        print(v)\n",
    "        \n",
    "obj = Cal(10,5,2)\n",
    "obj.area()\n",
    "obj.volume()\n",
    "        "
   ]
  },
  {
   "cell_type": "code",
   "execution_count": 12,
   "id": "daa48b0e",
   "metadata": {},
   "outputs": [
    {
     "name": "stdout",
     "output_type": "stream",
     "text": [
      "Enter l =2\n",
      "Enter b =3\n",
      "Enter h =4\n",
      "6\n",
      "24\n"
     ]
    }
   ],
   "source": [
    "class Cal:\n",
    "    def __init__(self,l,b,h):\n",
    "        self.len = l\n",
    "        self.brd = b\n",
    "        self.hei = h\n",
    "    def area(self):\n",
    "        a = self.len*self.brd\n",
    "        print(a)\n",
    "    def volume(self):\n",
    "        v = self.len*self.brd*self.hei\n",
    "        print(v)\n",
    "l = int(input(\"Enter l =\"))   #initialize/assignment of the variable\n",
    "b = int(input(\"Enter b =\"))\n",
    "h = int(input(\"Enter h =\"))\n",
    "        \n",
    "obj = Cal(l,b,h)\n",
    "obj.area()\n",
    "obj.volume()\n",
    "        \n"
   ]
  },
  {
   "cell_type": "code",
   "execution_count": 1,
   "id": "af55adb1",
   "metadata": {
    "scrolled": false
   },
   "outputs": [
    {
     "name": "stdout",
     "output_type": "stream",
     "text": [
      "Enter l =2\n",
      "Enter b =3\n",
      "Enter h =4\n",
      "6\n",
      "24\n"
     ]
    }
   ],
   "source": [
    "class Cal:\n",
    "    def __init__(self,l,b):\n",
    "        self.len = l\n",
    "        self.brd = b\n",
    "      \n",
    "    def area(self):\n",
    "        a = self.len*self.brd\n",
    "        print(a)\n",
    "    def volume(self,h):\n",
    "        v = self.len*self.brd*h\n",
    "        print(v)\n",
    "l = int(input(\"Enter l =\"))   #initialize/assignment of the variable\n",
    "b = int(input(\"Enter b =\"))\n",
    "h = int(input(\"Enter h =\"))\n",
    "        \n",
    "obj = Cal(l,b)\n",
    "obj.area()\n",
    "obj.volume(h)\n",
    "        \n"
   ]
  },
  {
   "cell_type": "code",
   "execution_count": 2,
   "id": "71b718c1",
   "metadata": {},
   "outputs": [
    {
     "name": "stdout",
     "output_type": "stream",
     "text": [
      "Enter l =2\n",
      "Enter b =3\n",
      "Enter h =4\n",
      "6\n",
      "24\n",
      "2 3 4\n"
     ]
    }
   ],
   "source": [
    "class Cal:\n",
    "    def __init__(self):\n",
    "        self.len = int(input(\"Enter l =\"))\n",
    "        self.brd = int(input(\"Enter b =\"))\n",
    "        self.h = int(input(\"Enter h =\"))\n",
    "      \n",
    "    def area(self):\n",
    "        a = self.len*self.brd\n",
    "        print(a)\n",
    "    def volume(self,h):\n",
    "        v = self.len*self.brd*self.h\n",
    "        print(v)\n",
    "\n",
    "        \n",
    "obj = Cal()\n",
    "obj.area()\n",
    "obj.volume(h)\n",
    "print(obj.len,obj.brd,obj.h)\n"
   ]
  },
  {
   "cell_type": "code",
   "execution_count": 5,
   "id": "271a5e38",
   "metadata": {},
   "outputs": [
    {
     "name": "stdout",
     "output_type": "stream",
     "text": [
      "Enter name =Ram\n",
      "Enter age =22\n",
      "Enter add =rew\n",
      "Ram\n",
      "<class '__main__.Info'>\n",
      "Ram\n",
      "Ram\n"
     ]
    }
   ],
   "source": [
    "#__str__\n",
    "class Info:\n",
    "    def __init__(self):\n",
    "        self.name = input(\"Enter name =\")\n",
    "        self.age = int(input(\"Enter age =\"))\n",
    "        self.add = input(\"Enter add =\")\n",
    "    def __str__(self):\n",
    "        return self.name\n",
    "    \n",
    "obj = Info()\n",
    "print(obj)\n",
    "print(type(obj))\n",
    "print(obj.__str__())   \n",
    "print(str(obj))"
   ]
  },
  {
   "cell_type": "code",
   "execution_count": null,
   "id": "44973918",
   "metadata": {},
   "outputs": [],
   "source": []
  },
  {
   "cell_type": "code",
   "execution_count": null,
   "id": "944daeaa",
   "metadata": {},
   "outputs": [],
   "source": []
  }
 ],
 "metadata": {
  "kernelspec": {
   "display_name": "Python 3 (ipykernel)",
   "language": "python",
   "name": "python3"
  },
  "language_info": {
   "codemirror_mode": {
    "name": "ipython",
    "version": 3
   },
   "file_extension": ".py",
   "mimetype": "text/x-python",
   "name": "python",
   "nbconvert_exporter": "python",
   "pygments_lexer": "ipython3",
   "version": "3.10.9"
  }
 },
 "nbformat": 4,
 "nbformat_minor": 5
}
