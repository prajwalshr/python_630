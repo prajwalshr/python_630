{
 "cells": [
  {
   "cell_type": "code",
   "execution_count": 1,
   "id": "2677c100",
   "metadata": {},
   "outputs": [
    {
     "name": "stdout",
     "output_type": "stream",
     "text": [
      "Enter math Score =89\n",
      "Enter chemistry Score =56\n",
      "Enter physics Score =45\n",
      "Enter english Score =34\n",
      "Enter nepali Score =34\n",
      "The total marks = 258\n",
      "The per = 51.6\n",
      "the grade =  C\n"
     ]
    }
   ],
   "source": [
    "math = int(input(\"Enter math Score =\"))\n",
    "chemistry = int(input(\"Enter chemistry Score =\"))\n",
    "physics = int(input(\"Enter physics Score =\"))\n",
    "english = int(input(\"Enter english Score =\"))\n",
    "nepali = int(input(\"Enter nepali Score =\"))\n",
    "\n",
    "total = math + chemistry + physics + english + nepali\n",
    "per = total/5\n",
    "if per > 80 or per == 80:\n",
    "#if (per > 80) | (per == 80):\n",
    "    grade = \"A\"\n",
    "elif per >60 or per == 60:\n",
    "    grade = 'B'\n",
    "elif per > 45 or per == 45:\n",
    "    grade = 'C'\n",
    "else:\n",
    "    grade = 'F'\n",
    "print(\"The total marks =\",total)\n",
    "print(\"The per =\", per)\n",
    "print(\"the grade = \", grade)"
   ]
  },
  {
   "cell_type": "code",
   "execution_count": 2,
   "id": "64e372e5",
   "metadata": {},
   "outputs": [],
   "source": [
    "#nested if\n",
    "# if <condition>:\n",
    "#     if <condition>:\n",
    "#         <operation>\n",
    "#     else:\n",
    "#         <operation>\n",
    "# else:\n",
    "#      if <condition>:\n",
    "#         <operation>\n",
    "#     else:\n",
    "#         <operation>"
   ]
  },
  {
   "cell_type": "code",
   "execution_count": 5,
   "id": "43e80b1c",
   "metadata": {},
   "outputs": [
    {
     "name": "stdout",
     "output_type": "stream",
     "text": [
      "Enter n =-1\n",
      "The no. is -ve and odd\n"
     ]
    }
   ],
   "source": [
    "n = int(input(\"Enter n =\"))\n",
    "if n >= 0:\n",
    "    if n % 2 == 0:\n",
    "        print(\"The no. is +ve and even\")\n",
    "    else:\n",
    "        print(\"The no. is +ve and odd\")\n",
    "else:\n",
    "    if n % 2 != 0:\n",
    "        print(\"The no. is -ve and odd\")\n",
    "    else:\n",
    "        print(\"The no. is -ve and even\")\n",
    "    "
   ]
  },
  {
   "cell_type": "code",
   "execution_count": 6,
   "id": "42bd7012",
   "metadata": {},
   "outputs": [],
   "source": [
    "# for loop\n",
    "# while loop"
   ]
  },
  {
   "cell_type": "code",
   "execution_count": 7,
   "id": "e632efc8",
   "metadata": {},
   "outputs": [],
   "source": [
    "# for loop - run for certian loop if you know the iteration\n",
    "# while loop - used for certain iteration"
   ]
  },
  {
   "cell_type": "code",
   "execution_count": 11,
   "id": "98469339",
   "metadata": {
    "scrolled": false
   },
   "outputs": [],
   "source": [
    "# for loop\n",
    "# range(5) # 0, 1,2,3,4  for(i = 0; i<5;i++)\n",
    "# range(1,5) # 1,2,3,4   for(i =1; i<5, i++)\n",
    "# range(1,10,2) # 1,3,5,7,9  for(i = 1; i<5;i=i+2)"
   ]
  },
  {
   "cell_type": "code",
   "execution_count": 56,
   "id": "1fa66992",
   "metadata": {},
   "outputs": [
    {
     "name": "stdout",
     "output_type": "stream",
     "text": [
      "0\n",
      "1\n",
      "2\n",
      "3\n",
      "4\n"
     ]
    }
   ],
   "source": [
    "for i in range(5):\n",
    "    print (i)"
   ]
  },
  {
   "cell_type": "code",
   "execution_count": 20,
   "id": "795de264",
   "metadata": {},
   "outputs": [
    {
     "name": "stdout",
     "output_type": "stream",
     "text": [
      "0 Hello World\n",
      "1 Hello World\n",
      "2 Hello World\n",
      "3 Hello World\n",
      "4 Hello World\n"
     ]
    }
   ],
   "source": [
    "for i in range(5):\n",
    "    print (i, \"Hello World\")"
   ]
  },
  {
   "cell_type": "code",
   "execution_count": 21,
   "id": "cc9d5263",
   "metadata": {},
   "outputs": [
    {
     "name": "stdout",
     "output_type": "stream",
     "text": [
      "1 Hello World\n",
      "2 Hello World\n",
      "3 Hello World\n",
      "4 Hello World\n"
     ]
    }
   ],
   "source": [
    "for i in range(1,5):\n",
    "    print (i, \"Hello World\")"
   ]
  },
  {
   "cell_type": "code",
   "execution_count": 22,
   "id": "384b378a",
   "metadata": {},
   "outputs": [
    {
     "name": "stdout",
     "output_type": "stream",
     "text": [
      "1 Hello World\n",
      "3 Hello World\n",
      "5 Hello World\n",
      "7 Hello World\n",
      "9 Hello World\n"
     ]
    }
   ],
   "source": [
    "for i in range(1,10,2):\n",
    "    print (i, \"Hello World\")"
   ]
  },
  {
   "cell_type": "code",
   "execution_count": 26,
   "id": "190d388c",
   "metadata": {},
   "outputs": [
    {
     "name": "stdout",
     "output_type": "stream",
     "text": [
      "1 Hello World 3 Hello World 5 Hello World 7 Hello World 9 Hello World "
     ]
    }
   ],
   "source": [
    "for i in range(1,10,2):\n",
    "    print (i, \"Hello World \", end = \"\")"
   ]
  },
  {
   "cell_type": "code",
   "execution_count": 27,
   "id": "47e4d979",
   "metadata": {},
   "outputs": [
    {
     "name": "stdout",
     "output_type": "stream",
     "text": [
      "5\n",
      "5\n",
      "5\n",
      "5\n",
      "5\n",
      "5\n",
      "5\n",
      "5\n",
      "5\n",
      "5\n"
     ]
    }
   ],
   "source": [
    "for i in range(1,11):\n",
    "    print(5*1)"
   ]
  },
  {
   "cell_type": "code",
   "execution_count": 37,
   "id": "16029d8f",
   "metadata": {},
   "outputs": [],
   "source": [
    "#"
   ]
  },
  {
   "cell_type": "code",
   "execution_count": 46,
   "id": "36f44674",
   "metadata": {},
   "outputs": [
    {
     "name": "stdout",
     "output_type": "stream",
     "text": [
      "Enter n = 3\n",
      "3 * 1 = 3\n",
      "3 * 2 = 6\n",
      "3 * 3 = 9\n",
      "3 * 4 = 12\n",
      "3 * 5 = 15\n",
      "3 * 6 = 18\n",
      "3 * 7 = 21\n",
      "3 * 8 = 24\n",
      "3 * 9 = 27\n",
      "3 * 10 = 30\n"
     ]
    }
   ],
   "source": [
    "n = int(input(\"Enter n = \"))\n",
    "for i in range(1,11):\n",
    "    print(n,\"*\",i,\"=\",n*i)"
   ]
  },
  {
   "cell_type": "code",
   "execution_count": 39,
   "id": "aa062e2b",
   "metadata": {},
   "outputs": [
    {
     "name": "stdout",
     "output_type": "stream",
     "text": [
      "Enter X =10\n",
      "10\n",
      "Enter X =20\n",
      "20\n",
      "Enter X =39\n",
      "39\n"
     ]
    }
   ],
   "source": [
    "#overwrite of value\n",
    "for i in range(3):\n",
    "    x = int(input(\"Enter X =\"))\n",
    "    print(x)"
   ]
  },
  {
   "cell_type": "code",
   "execution_count": 44,
   "id": "6acf9d38",
   "metadata": {
    "scrolled": false
   },
   "outputs": [
    {
     "name": "stdout",
     "output_type": "stream",
     "text": [
      "Enter X =2\n",
      "2\n",
      "Enter X =3\n",
      "5\n",
      "Enter X =4\n",
      "9\n"
     ]
    }
   ],
   "source": [
    "#run for 3 iterations specified \n",
    "s = 0\n",
    "for i in range(3):\n",
    "    x = int(input(\"Enter X =\"))\n",
    "    s = s + x\n",
    "    print(s)"
   ]
  },
  {
   "cell_type": "code",
   "execution_count": 48,
   "id": "b4bf6f6b",
   "metadata": {},
   "outputs": [
    {
     "name": "stdout",
     "output_type": "stream",
     "text": [
      "Enter = 2\n",
      "Enter X =2\n",
      "2\n",
      "Enter X =2\n",
      "4\n"
     ]
    }
   ],
   "source": [
    "# user defines how many times the loo[ runs\n",
    "s = 0\n",
    "n = int(input(\"Enter = \"))\n",
    "for i in range(n):\n",
    "    x = int(input(\"Enter X =\"))\n",
    "    s = s + x\n",
    "    print(s)"
   ]
  },
  {
   "cell_type": "code",
   "execution_count": 47,
   "id": "5350e239",
   "metadata": {},
   "outputs": [],
   "source": [
    "# to get the factorial calculation\n",
    "# to calculate grade of multiple students\n",
    "# to create a billing system\n",
    "  #  -name, price , quantity > total, trand total\n",
    "#\n"
   ]
  },
  {
   "cell_type": "code",
   "execution_count": 3,
   "id": "4401a636",
   "metadata": {},
   "outputs": [
    {
     "name": "stdout",
     "output_type": "stream",
     "text": [
      "Get the factorial of = 5\n",
      "1\n",
      "2\n",
      "6\n",
      "24\n",
      "120\n"
     ]
    }
   ],
   "source": [
    "# to get the facotrial\n",
    "x = 1\n",
    "n = int(input(\"Get the factorial of = \"))\n",
    "for i in range(n):\n",
    "    x = x + (x * i)\n",
    "    print(x)"
   ]
  },
  {
   "cell_type": "code",
   "execution_count": 4,
   "id": "acdac300",
   "metadata": {},
   "outputs": [
    {
     "name": "stdout",
     "output_type": "stream",
     "text": [
      "Enter n = 5\n",
      "1\n",
      "2\n",
      "6\n",
      "24\n",
      "120\n"
     ]
    }
   ],
   "source": [
    "fac = 1\n",
    "n = int(input(\"Enter n = \"))\n",
    "for i in range(1, n+1):\n",
    "    fac = fac * i\n",
    "    print(fac)"
   ]
  },
  {
   "cell_type": "markdown",
   "id": "881aa151",
   "metadata": {},
   "source": [
    " n = int (input(No. of Items buy =\"))\n",
    " for i in range(2):\n",
    "     name = input(\"Item you buy = \")\n",
    "     quantity = int(input(\"Enter the quantity = \"))\n",
    "     Price = float (input(\"Enter the value =\"))\n",
    "     Total = quantity * price\n",
    "     print(Total)\n",
    "  "
   ]
  },
  {
   "cell_type": "code",
   "execution_count": 2,
   "id": "6e807fc9",
   "metadata": {},
   "outputs": [
    {
     "ename": "SyntaxError",
     "evalue": "invalid syntax (511173723.py, line 9)",
     "output_type": "error",
     "traceback": [
      "\u001b[1;36m  Cell \u001b[1;32mIn[2], line 9\u001b[1;36m\u001b[0m\n\u001b[1;33m    Grand_total=(i+p, end \"\")\u001b[0m\n\u001b[1;37m                          ^\u001b[0m\n\u001b[1;31mSyntaxError\u001b[0m\u001b[1;31m:\u001b[0m invalid syntax\n"
     ]
    }
   ],
   "source": [
    "fac = 1\n",
    "n = int(input(\"Enter n = \"))\n",
    "if n >=0:\n",
    "for i in range(1, n+1):\n",
    "    fac = fac * i\n",
    "    print(fac)\n",
    "else:\n",
    "    print(\"the value of n > =0\")"
   ]
  },
  {
   "cell_type": "code",
   "execution_count": 3,
   "id": "08d0e19a",
   "metadata": {},
   "outputs": [
    {
     "name": "stdout",
     "output_type": "stream",
     "text": [
      "Give the grade of n students2\n"
     ]
    },
    {
     "ename": "TypeError",
     "evalue": "'int' object is not iterable",
     "output_type": "error",
     "traceback": [
      "\u001b[1;31m---------------------------------------------------------------------------\u001b[0m",
      "\u001b[1;31mTypeError\u001b[0m                                 Traceback (most recent call last)",
      "Cell \u001b[1;32mIn[3], line 3\u001b[0m\n\u001b[0;32m      1\u001b[0m \u001b[38;5;66;03m# to calculate grade of multiple students\u001b[39;00m\n\u001b[0;32m      2\u001b[0m n \u001b[38;5;241m=\u001b[39m \u001b[38;5;28mint\u001b[39m(\u001b[38;5;28minput\u001b[39m(\u001b[38;5;124m\"\u001b[39m\u001b[38;5;124mGive the grade of n students\u001b[39m\u001b[38;5;124m\"\u001b[39m))\n\u001b[1;32m----> 3\u001b[0m \u001b[38;5;28;01mfor\u001b[39;00m i \u001b[38;5;129;01min\u001b[39;00m n:\n\u001b[0;32m      4\u001b[0m     Math \u001b[38;5;241m=\u001b[39m \u001b[38;5;28mint\u001b[39m(\u001b[38;5;28minput\u001b[39m(\u001b[38;5;124m\"\u001b[39m\u001b[38;5;124mGive the grade of Math =\u001b[39m\u001b[38;5;124m\"\u001b[39m))\n\u001b[0;32m      5\u001b[0m     Science \u001b[38;5;241m=\u001b[39m \u001b[38;5;28mint\u001b[39m(\u001b[38;5;28minput\u001b[39m(\u001b[38;5;124m\"\u001b[39m\u001b[38;5;124mGive the grade of science\u001b[39m\u001b[38;5;124m\"\u001b[39m))\n",
      "\u001b[1;31mTypeError\u001b[0m: 'int' object is not iterable"
     ]
    }
   ],
   "source": [
    "# to calculate grade of multiple students\n",
    "n = int(input(\"Give the grade of n students\"))\n",
    "for i in range(n):\n",
    "    Math = int(input(\"Give the grade of Math =\"))\n",
    "    Science = int(input(\"Give the grade of science\"))\n",
    "    English = int(input(\"Give the grade of Englist\"))\n",
    "    per = [(Math + English + English)/3]\n",
    "    print(per)\n",
    "grade = Grade[0] + Grade[1]\n",
    "print(grade)    "
   ]
  },
  {
   "cell_type": "code",
   "execution_count": 10,
   "id": "13e59329",
   "metadata": {},
   "outputs": [
    {
     "name": "stdout",
     "output_type": "stream",
     "text": [
      "0\n",
      "1\n",
      "2\n"
     ]
    }
   ],
   "source": [
    "for i in range(3):\n",
    "    print(i)"
   ]
  },
  {
   "cell_type": "code",
   "execution_count": 6,
   "id": "819a600d",
   "metadata": {},
   "outputs": [],
   "source": [
    "# n = int(input(\"No. of Items buy =\"))\n",
    "# for i in range(n): \n",
    "#     for p in range(n):\n",
    "#         name = input(\"Item you buy = \") \n",
    "#         quantity = int(input(\"Enter the quantity = \")) \n",
    "#         Price = int(input(\"Enter the value =\")) \n",
    "#         Total = quantity * Price \n",
    "#         print(Total)\n",
    "#         Grand_total=(i+p, end \"\")\n",
    "#         print(Grand_total)"
   ]
  },
  {
   "cell_type": "code",
   "execution_count": 14,
   "id": "33c2f787",
   "metadata": {},
   "outputs": [
    {
     "name": "stdout",
     "output_type": "stream",
     "text": [
      "Enter n =2\n",
      "enter name= app\n",
      "Enter price =120\n",
      "Enter quantity = 2\n",
      "enter name= ban\n",
      "Enter price =50\n",
      "Enter quantity = 4\n",
      "app 120 2.0 240.0\n",
      "ban 50 4.0 200.0\n",
      "\n",
      "440.0\n"
     ]
    }
   ],
   "source": [
    "# -name, price, quantity, total, grand total\n",
    "info = \"\"\n",
    "grand_total = 0\n",
    "n = int(input(\"Enter n =\"))\n",
    "for i in range(n):\n",
    "    name = input(\"enter name= \")\n",
    "    price = int(input(\"Enter price =\"))\n",
    "    quantity = float(input(\"Enter quantity = \"))\n",
    "    total = price * quantity\n",
    "    data = name + \" \" + str(price) + \" \" + str(quantity) + \" \" + str(total) + \"\\n\"\n",
    "    info = info + data\n",
    "    grand_total = total + grand_total\n",
    "    \n",
    "print(info)\n",
    "print(grand_total)\n"
   ]
  },
  {
   "cell_type": "code",
   "execution_count": 17,
   "id": "db4c2da8",
   "metadata": {},
   "outputs": [
    {
     "name": "stdout",
     "output_type": "stream",
     "text": [
      "Enter n + 2\n",
      "Enter name = andy\n",
      "Enter phone = 212131334\n",
      "Enter name = brian\n",
      "Enter phone = 213324444\n",
      "andy 212131334\n",
      "brian 213324444\n",
      "\n"
     ]
    }
   ],
   "source": [
    "data =str()  # another way to create empty string\n",
    "n = int(input(\"Enter n + \"))\n",
    "for i in range(n):\n",
    "    name = input(\"Enter name = \")\n",
    "    phone = input(\"Enter phone = \")\n",
    "    info = name + \" \" + str(phone) + \"\\n\"\n",
    "    data = data + info \n",
    "    \n",
    "print(data)"
   ]
  },
  {
   "cell_type": "code",
   "execution_count": 19,
   "id": "a6c3738f",
   "metadata": {},
   "outputs": [
    {
     "name": "stdout",
     "output_type": "stream",
     "text": [
      "o\n",
      "oo\n",
      "ooo\n",
      "oooo\n",
      "ooooo\n",
      "oooooo\n",
      "ooooooo\n",
      "oooooooo\n",
      "ooooooooo\n"
     ]
    }
   ],
   "source": [
    "for i in range(1, 10):\n",
    "    print(i * \"o\")"
   ]
  },
  {
   "cell_type": "code",
   "execution_count": 20,
   "id": "fe2a8452",
   "metadata": {},
   "outputs": [
    {
     "name": "stdout",
     "output_type": "stream",
     "text": [
      " \n",
      "  o\n",
      "   oo\n",
      "    ooo\n",
      "     oooo\n"
     ]
    }
   ],
   "source": [
    "for i in range(5):\n",
    "    print(i*\" \",i * \"o\")"
   ]
  },
  {
   "cell_type": "code",
   "execution_count": 22,
   "id": "2e3938c3",
   "metadata": {},
   "outputs": [
    {
     "name": "stdout",
     "output_type": "stream",
     "text": [
      "     \n",
      "    o\n",
      "   oo\n",
      "  ooo\n",
      " oooo\n"
     ]
    }
   ],
   "source": [
    "c = 5\n",
    "for i in range(5):\n",
    "    print((c-1)*\" \",i * \"o\",)\n",
    "    c = c - 1"
   ]
  },
  {
   "cell_type": "code",
   "execution_count": 23,
   "id": "20d87109",
   "metadata": {},
   "outputs": [
    {
     "name": "stdout",
     "output_type": "stream",
     "text": [
      "      \n",
      "    o o\n",
      "   oo oo\n",
      "  ooo ooo\n",
      " oooo oooo\n"
     ]
    }
   ],
   "source": [
    "c = 5\n",
    "for i in range(5):\n",
    "    print((c-1)*\" \",i * \"o\",i * \"o\")\n",
    "    c = c - 1"
   ]
  },
  {
   "cell_type": "code",
   "execution_count": 24,
   "id": "3991eefc",
   "metadata": {
    "scrolled": false
   },
   "outputs": [
    {
     "name": "stdout",
     "output_type": "stream",
     "text": [
      "     \n",
      "    o\n",
      "   ooo\n",
      "  ooooo\n",
      " ooooooo\n"
     ]
    }
   ],
   "source": [
    "c = 5\n",
    "for i in range(5):\n",
    "    print((c-1)*\" \",(2*i-1) * \"o\",)\n",
    "    c = c - 1"
   ]
  },
  {
   "cell_type": "code",
   "execution_count": 25,
   "id": "5c70c6f5",
   "metadata": {},
   "outputs": [],
   "source": [
    "# control statement\n",
    "# break  - to stop the loop\n",
    "# continue  - when the condition meets, stop the current iteration and go to next iteration\n",
    "#pass   - does not do anything"
   ]
  },
  {
   "cell_type": "code",
   "execution_count": 27,
   "id": "4b682866",
   "metadata": {},
   "outputs": [
    {
     "name": "stdout",
     "output_type": "stream",
     "text": [
      "0\n",
      "1\n",
      "2\n",
      "3\n",
      "4\n"
     ]
    }
   ],
   "source": [
    "for i in range(10):\n",
    "    if i == 5:\n",
    "        break\n",
    "    print(i)"
   ]
  },
  {
   "cell_type": "code",
   "execution_count": 28,
   "id": "8d1d0d9e",
   "metadata": {},
   "outputs": [
    {
     "name": "stdout",
     "output_type": "stream",
     "text": [
      "0\n",
      "1\n",
      "2\n",
      "3\n",
      "4\n",
      "6\n",
      "7\n",
      "8\n",
      "9\n"
     ]
    }
   ],
   "source": [
    "for i in range(10):\n",
    "    if i == 5:\n",
    "        continue\n",
    "    print(i)"
   ]
  },
  {
   "cell_type": "code",
   "execution_count": 30,
   "id": "025c6344",
   "metadata": {},
   "outputs": [],
   "source": [
    "for i in range(5):\n",
    "    pass\n",
    " "
   ]
  },
  {
   "cell_type": "code",
   "execution_count": 87,
   "id": "80909353",
   "metadata": {},
   "outputs": [
    {
     "name": "stdout",
     "output_type": "stream",
     "text": [
      "0 Pincipal = 1132800.0\n",
      "0 Bal = 1162800.0\n",
      "1 Pincipal = 1135824.0\n",
      "1 Bal = 1165824.0\n",
      "2 Pincipal = 1139089.92\n",
      "2 Bal = 1169089.92\n"
     ]
    }
   ],
   "source": [
    "prin = 1160000\n",
    "for i in range(3):\n",
    "    interest=prin*0.08\n",
    "    prin= prin + interest\n",
    "    withdrawl = 120000\n",
    "    prin = prin - withdrawl\n",
    "    print(i, \"Pincipal =\", prin)\n",
    "    income=30000\n",
    "    prin=prin+income\n",
    "    print(i, \"Bal =\", prin)\n",
    "  \n"
   ]
  },
  {
   "cell_type": "code",
   "execution_count": null,
   "id": "93528e33",
   "metadata": {},
   "outputs": [],
   "source": [
    "# while <condition>;\n",
    "#     <operation>"
   ]
  },
  {
   "cell_type": "code",
   "execution_count": null,
   "id": "0059da60",
   "metadata": {},
   "outputs": [],
   "source": []
  },
  {
   "cell_type": "code",
   "execution_count": 94,
   "id": "f7b4f25c",
   "metadata": {},
   "outputs": [
    {
     "name": "stdout",
     "output_type": "stream",
     "text": [
      "0 Hello World\n",
      "1 Hello World\n",
      "2 Hello World\n",
      "3 Hello World\n",
      "4 Hello World\n"
     ]
    }
   ],
   "source": [
    "i = 0  #Initialization\n",
    "while i <5:\n",
    "    print(i,\"Hello World\")\n",
    "    i = i+1"
   ]
  },
  {
   "cell_type": "code",
   "execution_count": 95,
   "id": "a883c44b",
   "metadata": {},
   "outputs": [
    {
     "name": "stdout",
     "output_type": "stream",
     "text": [
      "1 Hello World\n",
      "2 Hello World\n",
      "3 Hello World\n",
      "4 Hello World\n"
     ]
    }
   ],
   "source": [
    "i = 1\n",
    "while i <5:\n",
    "    print(i,\"Hello World\")\n",
    "    i = i+1"
   ]
  },
  {
   "cell_type": "code",
   "execution_count": 97,
   "id": "20f65584",
   "metadata": {},
   "outputs": [
    {
     "name": "stdout",
     "output_type": "stream",
     "text": [
      "1 Hello World\n",
      "3 Hello World\n"
     ]
    }
   ],
   "source": [
    "i = 1  #Initialization\n",
    "while i <5:\n",
    "    print(i,\"Hello World\")\n",
    "    i = i+2"
   ]
  },
  {
   "cell_type": "code",
   "execution_count": 98,
   "id": "3ca70a4f",
   "metadata": {},
   "outputs": [
    {
     "name": "stdout",
     "output_type": "stream",
     "text": [
      "1 Hello World\n",
      "1.5 Hello World\n",
      "2.0 Hello World\n",
      "2.5 Hello World\n",
      "3.0 Hello World\n",
      "3.5 Hello World\n",
      "4.0 Hello World\n",
      "4.5 Hello World\n"
     ]
    }
   ],
   "source": [
    "i = 1  #can use 0.5 in while loop, but not in for loop\n",
    "while i <5:\n",
    "    print(i,\"Hello World\")\n",
    "    i = i+0.5"
   ]
  },
  {
   "cell_type": "code",
   "execution_count": null,
   "id": "21065c2a",
   "metadata": {},
   "outputs": [],
   "source": [
    "i = 1\n",
    "n = int(input(\"Enter n = \"))\n",
    "while i <=10:\n",
    "    print(n, \"*\", i, \"=\", n*1)"
   ]
  }
 ],
 "metadata": {
  "kernelspec": {
   "display_name": "Python 3 (ipykernel)",
   "language": "python",
   "name": "python3"
  },
  "language_info": {
   "codemirror_mode": {
    "name": "ipython",
    "version": 3
   },
   "file_extension": ".py",
   "mimetype": "text/x-python",
   "name": "python",
   "nbconvert_exporter": "python",
   "pygments_lexer": "ipython3",
   "version": "3.10.9"
  }
 },
 "nbformat": 4,
 "nbformat_minor": 5
}
