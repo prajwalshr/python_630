{
 "cells": [
  {
   "cell_type": "code",
   "execution_count": 1,
   "id": "a65fe8c6",
   "metadata": {},
   "outputs": [],
   "source": [
    "#function\n",
    "#pre defined\n",
    "# user defined"
   ]
  },
  {
   "cell_type": "code",
   "execution_count": 2,
   "id": "577a897d",
   "metadata": {},
   "outputs": [],
   "source": [
    "# #pre defined\n",
    "# print() int() float() str() type() tuple() set()"
   ]
  },
  {
   "cell_type": "code",
   "execution_count": 3,
   "id": "52b59e01",
   "metadata": {},
   "outputs": [],
   "source": [
    "#user defined\n",
    "# def <function_name>:\n",
    "#     <operations>\n",
    "# <function_name>()"
   ]
  },
  {
   "cell_type": "code",
   "execution_count": 5,
   "id": "0ceeef2b",
   "metadata": {},
   "outputs": [
    {
     "name": "stdout",
     "output_type": "stream",
     "text": [
      "Hello world\n",
      "Hello world\n"
     ]
    }
   ],
   "source": [
    "def hello():   #defining\n",
    "    print(\"Hello world\")\n",
    "hello()   #calling\n",
    "hello()"
   ]
  },
  {
   "cell_type": "code",
   "execution_count": 7,
   "id": "f8b10d9f",
   "metadata": {},
   "outputs": [
    {
     "name": "stdout",
     "output_type": "stream",
     "text": [
      "Enter l =2\n",
      "Enter b =3\n",
      "Enter h =4\n",
      "24\n"
     ]
    }
   ],
   "source": [
    "def cal():\n",
    "    l = int(input(\"Enter l =\"))  #local variable\n",
    "    b = int(input(\"Enter b =\"))   #local variable\n",
    "    h = int(input(\"Enter h =\"))  #local variable\n",
    "    v = l*b*h\n",
    "    print(v)\n",
    "    \n",
    "cal()"
   ]
  },
  {
   "cell_type": "code",
   "execution_count": 10,
   "id": "11aa6102",
   "metadata": {},
   "outputs": [
    {
     "name": "stdout",
     "output_type": "stream",
     "text": [
      "Enter l =2\n",
      "Enter b =2\n",
      "Enter h =2\n",
      "8\n"
     ]
    }
   ],
   "source": [
    "cal()\n"
   ]
  },
  {
   "cell_type": "code",
   "execution_count": 11,
   "id": "3b508bb7",
   "metadata": {},
   "outputs": [
    {
     "name": "stdout",
     "output_type": "stream",
     "text": [
      "Enter l =3\n",
      "Enter b =3\n",
      "Enter h =3\n",
      "27\n"
     ]
    }
   ],
   "source": [
    "l = int(input(\"Enter l =\"))  #global variable\n",
    "b = int(input(\"Enter b =\"))   #global variable\n",
    "h = int(input(\"Enter h =\"))\n",
    "def cal():\n",
    "    v=l*b*h\n",
    "    print(v)\n",
    "    \n",
    "cal()"
   ]
  },
  {
   "cell_type": "code",
   "execution_count": 12,
   "id": "9eec44a1",
   "metadata": {},
   "outputs": [
    {
     "name": "stdout",
     "output_type": "stream",
     "text": [
      "Enter l =3\n",
      "Enter b =2\n",
      "Enter h =3\n",
      "18\n",
      "3 2 3\n"
     ]
    }
   ],
   "source": [
    "#creating global variable\n",
    "def cal():\n",
    "    global l,b,h\n",
    "    l = int(input(\"Enter l =\"))  #local variable\n",
    "    b = int(input(\"Enter b =\"))   #local variable\n",
    "    h = int(input(\"Enter h =\"))  #local variable\n",
    "    v = l*b*h\n",
    "    print(v)\n",
    "    \n",
    "cal()\n",
    "print(l,b,h)"
   ]
  },
  {
   "cell_type": "code",
   "execution_count": 13,
   "id": "92d50fe3",
   "metadata": {},
   "outputs": [],
   "source": [
    "# function without argument and no return type\n",
    "# function with argument and no return type\n",
    "# function without argument and return type\n",
    "# function with agument and return type"
   ]
  },
  {
   "cell_type": "code",
   "execution_count": 16,
   "id": "d328a9b2",
   "metadata": {},
   "outputs": [
    {
     "name": "stdout",
     "output_type": "stream",
     "text": [
      "Hello world\n"
     ]
    }
   ],
   "source": [
    "# function without argument and no return type\n",
    "def hello(x):   #parameter\n",
    "    print(x)\n",
    "hello(\"Hello world\")  #argument"
   ]
  },
  {
   "cell_type": "code",
   "execution_count": 4,
   "id": "36a517c0",
   "metadata": {},
   "outputs": [
    {
     "name": "stdout",
     "output_type": "stream",
     "text": [
      "Enter l =2\n",
      "Enter b =2\n",
      "Enter h =3\n",
      "12\n"
     ]
    }
   ],
   "source": [
    "#function with argument and no return value type\n",
    "def cal(x,y,z):\n",
    "    v = x*y*z\n",
    "    print(v)\n",
    "l = int(input(\"Enter l =\"))  #glocal variable\n",
    "b = int(input(\"Enter b =\"))   #glocal variable\n",
    "h = int(input(\"Enter h =\"))  #glocal variable\n",
    "    \n",
    "cal(l,b,h)"
   ]
  },
  {
   "cell_type": "code",
   "execution_count": 19,
   "id": "e43f02fb",
   "metadata": {},
   "outputs": [
    {
     "name": "stdout",
     "output_type": "stream",
     "text": [
      "php\n",
      "c++\n",
      "java\n",
      "Python\n"
     ]
    }
   ],
   "source": [
    "def lan(language=\"Python\"):\n",
    "    print(language)\n",
    "    \n",
    "lan(\"php\")\n",
    "lan(\"c++\")\n",
    "lan(\"java\")\n",
    "lan()"
   ]
  },
  {
   "cell_type": "code",
   "execution_count": 7,
   "id": "5c64e5d0",
   "metadata": {},
   "outputs": [
    {
     "name": "stdout",
     "output_type": "stream",
     "text": [
      "hello world\n"
     ]
    }
   ],
   "source": [
    "#return type function\n",
    "def hello():\n",
    "    return \"hello world\"\n",
    "print(hello())"
   ]
  },
  {
   "cell_type": "code",
   "execution_count": 10,
   "id": "27a9fda0",
   "metadata": {},
   "outputs": [
    {
     "name": "stdout",
     "output_type": "stream",
     "text": [
      "Enter l =2\n",
      "Enter b =3\n",
      "Enter h =4\n",
      "6\n",
      "24\n"
     ]
    }
   ],
   "source": [
    "def cal():\n",
    "    l = int(input(\"Enter l =\"))  #local variable\n",
    "    b = int(input(\"Enter b =\"))   #local variable\n",
    "    v = l*b\n",
    "    return v\n",
    "    \n",
    "area = cal()\n",
    "h= int(input(\"Enter h =\"))\n",
    "volume=area*h\n",
    "print(area)\n",
    "print(volume)"
   ]
  },
  {
   "cell_type": "code",
   "execution_count": null,
   "id": "873995f2",
   "metadata": {},
   "outputs": [
    {
     "name": "stdout",
     "output_type": "stream",
     "text": [
      "Enter l =2\n",
      "Enter b =3\n",
      "Enter h =4\n",
      "(6, 24)\n"
     ]
    }
   ],
   "source": [
    "def cal():\n",
    "    l = int(input(\"Enter l =\"))  #local variable\n",
    "    b = int(input(\"Enter b =\"))   #local variable\n",
    "    h= int(input(\"Enter h =\"))\n",
    "    a=l*b\n",
    "    v = a*h\n",
    "    return a,v\n",
    "    \n",
    "#print(cal())\n",
    "area,volume=cal()\n",
    "print(area)\n",
    "print(voulme)"
   ]
  },
  {
   "cell_type": "code",
   "execution_count": null,
   "id": "6d886cb5",
   "metadata": {},
   "outputs": [],
   "source": [
    "a=10,11\n",
    "a"
   ]
  },
  {
   "cell_type": "code",
   "execution_count": null,
   "id": "45375af7",
   "metadata": {},
   "outputs": [],
   "source": [
    "x,y=a\n",
    "print(x)\n",
    "print(y)"
   ]
  },
  {
   "cell_type": "code",
   "execution_count": 1,
   "id": "be596a3b",
   "metadata": {},
   "outputs": [
    {
     "name": "stdout",
     "output_type": "stream",
     "text": [
      "3.141592653589793\n"
     ]
    }
   ],
   "source": [
    "#math function\n",
    "import math as m\n",
    "print(m.pi)"
   ]
  },
  {
   "cell_type": "code",
   "execution_count": 2,
   "id": "f78979a2",
   "metadata": {},
   "outputs": [
    {
     "data": {
      "text/plain": [
       "100.0"
      ]
     },
     "execution_count": 2,
     "metadata": {},
     "output_type": "execute_result"
    }
   ],
   "source": [
    "m.pow(10,2)"
   ]
  },
  {
   "cell_type": "code",
   "execution_count": 3,
   "id": "66817f08",
   "metadata": {},
   "outputs": [
    {
     "data": {
      "text/plain": [
       "120"
      ]
     },
     "execution_count": 3,
     "metadata": {},
     "output_type": "execute_result"
    }
   ],
   "source": [
    "m.factorial(5)"
   ]
  },
  {
   "cell_type": "code",
   "execution_count": 4,
   "id": "6f48f71a",
   "metadata": {},
   "outputs": [
    {
     "data": {
      "text/plain": [
       "0.8939966636005579"
      ]
     },
     "execution_count": 4,
     "metadata": {},
     "output_type": "execute_result"
    }
   ],
   "source": [
    "m.sin(90)"
   ]
  },
  {
   "cell_type": "code",
   "execution_count": 5,
   "id": "e43c31c8",
   "metadata": {},
   "outputs": [
    {
     "data": {
      "text/plain": [
       "1.0"
      ]
     },
     "execution_count": 5,
     "metadata": {},
     "output_type": "execute_result"
    }
   ],
   "source": [
    "m.sin(m.pi/2)"
   ]
  },
  {
   "cell_type": "code",
   "execution_count": 6,
   "id": "2e1870a6",
   "metadata": {},
   "outputs": [
    {
     "name": "stdout",
     "output_type": "stream",
     "text": [
      "Hello world\n",
      "Hello world\n"
     ]
    }
   ],
   "source": [
    "#recursive function  - function that calls itself\n",
    "def hello():\n",
    "    print(\"Hello world\")\n",
    "hello()\n",
    "hello()\n"
   ]
  },
  {
   "cell_type": "code",
   "execution_count": null,
   "id": "de6fbc3f",
   "metadata": {},
   "outputs": [],
   "source": [
    "#recursive function  - function that calls itself\n",
    "def hello():\n",
    "    print(\"Hello world\")\n",
    "    hello()  # this will create infinite loop\n",
    "hello()\n"
   ]
  },
  {
   "cell_type": "code",
   "execution_count": 3,
   "id": "fcb10b5c",
   "metadata": {},
   "outputs": [
    {
     "name": "stdout",
     "output_type": "stream",
     "text": [
      "Hello world\n",
      "Press Enter for more print \n",
      "Hello world\n",
      "Press Enter for more print \n",
      "Hello world\n",
      "Press Enter for more print s\n"
     ]
    }
   ],
   "source": [
    "#recursive function  - function that calls itself\n",
    "def hello():\n",
    "    print(\"Hello world\")\n",
    "    x = input(\"Press Enter for more print \")\n",
    "    if x == '':\n",
    "        hello()  \n",
    "hello()\n"
   ]
  },
  {
   "cell_type": "code",
   "execution_count": 4,
   "id": "eb8733f0",
   "metadata": {},
   "outputs": [],
   "source": [
    "# #lambda function\n",
    "# x = lambda <argument>:<expression or operation>\n",
    "# x <argument\n"
   ]
  },
  {
   "cell_type": "code",
   "execution_count": 5,
   "id": "408578ca",
   "metadata": {},
   "outputs": [
    {
     "name": "stdout",
     "output_type": "stream",
     "text": [
      "9\n"
     ]
    }
   ],
   "source": [
    "x = lambda x:x**2\n",
    "print(x(3))"
   ]
  },
  {
   "cell_type": "code",
   "execution_count": 6,
   "id": "6953660a",
   "metadata": {},
   "outputs": [
    {
     "name": "stdout",
     "output_type": "stream",
     "text": [
      "6\n"
     ]
    }
   ],
   "source": [
    "x = lambda l,b:l*b\n",
    "print(x(2,3))"
   ]
  },
  {
   "cell_type": "code",
   "execution_count": 8,
   "id": "120b7ff3",
   "metadata": {},
   "outputs": [
    {
     "data": {
      "text/plain": [
       "[2, 4, 56, 88, 78]"
      ]
     },
     "execution_count": 8,
     "metadata": {},
     "output_type": "execute_result"
    }
   ],
   "source": [
    "#filter\n",
    "a = [1,2,3,4,56,88,78,89,3,35]\n",
    "list(filter(lambda x:x%2==0, a))\n"
   ]
  },
  {
   "cell_type": "code",
   "execution_count": 20,
   "id": "a2dcb260",
   "metadata": {},
   "outputs": [
    {
     "data": {
      "text/plain": [
       "[]"
      ]
     },
     "execution_count": 20,
     "metadata": {},
     "output_type": "execute_result"
    }
   ],
   "source": [
    "a = [\"Apple\", \"Ball\", \"cat\", \"dog\", \"Fish\"]\n",
    "list(filter(lambda x:x.isupper(), a))"
   ]
  },
  {
   "cell_type": "code",
   "execution_count": 10,
   "id": "44d6f14c",
   "metadata": {},
   "outputs": [
    {
     "data": {
      "text/plain": [
       "[1, 2, 3, 4, 5, 1, 2, 3, 4, 5]"
      ]
     },
     "execution_count": 10,
     "metadata": {},
     "output_type": "execute_result"
    }
   ],
   "source": [
    "#map\n",
    "a = [1,2,3,4,5]\n",
    "a*2"
   ]
  },
  {
   "cell_type": "code",
   "execution_count": 11,
   "id": "4e6b05fd",
   "metadata": {},
   "outputs": [
    {
     "data": {
      "text/plain": [
       "[1, 4, 9, 16, 25]"
      ]
     },
     "execution_count": 11,
     "metadata": {},
     "output_type": "execute_result"
    }
   ],
   "source": [
    "a = [1,2,3,4,5]\n",
    "list(map(lambda x:x**2,a))"
   ]
  },
  {
   "cell_type": "code",
   "execution_count": 17,
   "id": "8131112f",
   "metadata": {},
   "outputs": [
    {
     "data": {
      "text/plain": [
       "['apple', 'ball', 'cat', 'dog', 'fish']"
      ]
     },
     "execution_count": 17,
     "metadata": {},
     "output_type": "execute_result"
    }
   ],
   "source": [
    "a = [\"Apple\", \"Ball\", \"cat\", \"dog\", \"Fish\"]\n",
    "list(map(lambda x:x.lower(), a))"
   ]
  },
  {
   "cell_type": "code",
   "execution_count": null,
   "id": "33461326",
   "metadata": {},
   "outputs": [],
   "source": []
  }
 ],
 "metadata": {
  "kernelspec": {
   "display_name": "Python 3 (ipykernel)",
   "language": "python",
   "name": "python3"
  },
  "language_info": {
   "codemirror_mode": {
    "name": "ipython",
    "version": 3
   },
   "file_extension": ".py",
   "mimetype": "text/x-python",
   "name": "python",
   "nbconvert_exporter": "python",
   "pygments_lexer": "ipython3",
   "version": "3.10.9"
  }
 },
 "nbformat": 4,
 "nbformat_minor": 5
}
