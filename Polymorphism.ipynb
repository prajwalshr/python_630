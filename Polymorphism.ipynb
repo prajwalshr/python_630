{
 "cells": [
  {
   "cell_type": "code",
   "execution_count": 1,
   "id": "fa4c34a2",
   "metadata": {},
   "outputs": [],
   "source": [
    "# #Polymorphism (comparison between function in different class)\n",
    "# Poly - multiple\n",
    "# Morp - functon"
   ]
  },
  {
   "cell_type": "code",
   "execution_count": 7,
   "id": "3d706a69",
   "metadata": {},
   "outputs": [
    {
     "name": "stdout",
     "output_type": "stream",
     "text": [
      "Parrot can fly\n",
      "Penguin can't fly\n"
     ]
    }
   ],
   "source": [
    "class Parrot:\n",
    "    def fly(self):\n",
    "        print(\"Parrot can fly\")\n",
    "    def swim(self):\n",
    "        print(\"Parrot can't swim\")\n",
    "class Penguin:\n",
    "    def fly(self):\n",
    "        print(\"Penguin can't fly\")\n",
    "    def swim(self):\n",
    "        print(\"Penguin can swim\")\n",
    "# common interface\n",
    "def flying_test(bird):   #using object in argumeny\n",
    "    bird.fly()\n",
    "\n",
    "#instantiate objects\n",
    "blu = Parrot()\n",
    "peggy = Penguin()\n",
    "# passing the object\n",
    "flying_test(blu)\n",
    "flying_test(peggy)"
   ]
  },
  {
   "cell_type": "code",
   "execution_count": null,
   "id": "a5e5f0c6",
   "metadata": {},
   "outputs": [],
   "source": []
  }
 ],
 "metadata": {
  "kernelspec": {
   "display_name": "Python 3 (ipykernel)",
   "language": "python",
   "name": "python3"
  },
  "language_info": {
   "codemirror_mode": {
    "name": "ipython",
    "version": 3
   },
   "file_extension": ".py",
   "mimetype": "text/x-python",
   "name": "python",
   "nbconvert_exporter": "python",
   "pygments_lexer": "ipython3",
   "version": "3.10.9"
  }
 },
 "nbformat": 4,
 "nbformat_minor": 5
}
