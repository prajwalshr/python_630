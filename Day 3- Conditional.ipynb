{
 "cells": [
  {
   "cell_type": "code",
   "execution_count": 1,
   "id": "bdb3a71c",
   "metadata": {},
   "outputs": [],
   "source": [
    "# if <condition>:  ctrl + /   - this will comment multiple line of codes\n",
    "#     <opertion>\n",
    "# elif <condition>:\n",
    "#     <operation>\n",
    "    \n",
    "# elif <condition>:\n",
    "#     <operation>\n",
    "    \n",
    "# else\n",
    "#     <operation>"
   ]
  },
  {
   "cell_type": "code",
   "execution_count": 2,
   "id": "5ff71a45",
   "metadata": {},
   "outputs": [],
   "source": [
    "# < > <= >= == !=\n"
   ]
  },
  {
   "cell_type": "code",
   "execution_count": 3,
   "id": "2363072a",
   "metadata": {},
   "outputs": [
    {
     "name": "stdout",
     "output_type": "stream",
     "text": [
      "False\n"
     ]
    }
   ],
   "source": [
    "a = 10\n",
    "b = 12\n",
    "print(a > b)"
   ]
  },
  {
   "cell_type": "code",
   "execution_count": 4,
   "id": "3a929f0a",
   "metadata": {},
   "outputs": [
    {
     "name": "stdout",
     "output_type": "stream",
     "text": [
      "True\n"
     ]
    }
   ],
   "source": [
    "a = 10\n",
    "b = 12\n",
    "print(a < b)"
   ]
  },
  {
   "cell_type": "code",
   "execution_count": 5,
   "id": "48c73533",
   "metadata": {},
   "outputs": [
    {
     "data": {
      "text/plain": [
       "True"
      ]
     },
     "execution_count": 5,
     "metadata": {},
     "output_type": "execute_result"
    }
   ],
   "source": [
    "a = 10\n",
    "b = 10\n",
    "a <= b"
   ]
  },
  {
   "cell_type": "code",
   "execution_count": 9,
   "id": "16580114",
   "metadata": {},
   "outputs": [
    {
     "name": "stdout",
     "output_type": "stream",
     "text": [
      "True\n"
     ]
    }
   ],
   "source": [
    "a = 10\n",
    "b = 10\n",
    "print(a == b)"
   ]
  },
  {
   "cell_type": "code",
   "execution_count": 10,
   "id": "e6ec9f5f",
   "metadata": {},
   "outputs": [
    {
     "name": "stdout",
     "output_type": "stream",
     "text": [
      "True\n"
     ]
    }
   ],
   "source": [
    "a = 10\n",
    "b = 12\n",
    "print(a != b)"
   ]
  },
  {
   "cell_type": "code",
   "execution_count": 13,
   "id": "65adc806",
   "metadata": {},
   "outputs": [
    {
     "name": "stdout",
     "output_type": "stream",
     "text": [
      "Enter x = -10\n",
      "The no. is -ve\n"
     ]
    }
   ],
   "source": [
    "x = int(input(\"Enter x = \"))\n",
    "if x >= 0:\n",
    "    print(\"The no. is +ve\")\n",
    "else:\n",
    "    print(\"The no. is -ve\")"
   ]
  },
  {
   "cell_type": "code",
   "execution_count": 18,
   "id": "75ca1973",
   "metadata": {},
   "outputs": [
    {
     "name": "stdout",
     "output_type": "stream",
     "text": [
      "Enter value: 46\n",
      "The no is even\n"
     ]
    }
   ],
   "source": [
    "#to check if the number is even or odd\n",
    "x = int(input(\"Enter value: \"))\n",
    "if x%2 == 0:\n",
    "    print(\"The no is even\")\n",
    "\n",
    "else:\n",
    "    print(\"The no is odd\")"
   ]
  },
  {
   "cell_type": "code",
   "execution_count": 24,
   "id": "243344f7",
   "metadata": {},
   "outputs": [
    {
     "name": "stdout",
     "output_type": "stream",
     "text": [
      "enter a = 34\n",
      "enter b = 34\n",
      "34 34 are equal\n"
     ]
    }
   ],
   "source": [
    "a = int(input(\"enter a = \"))\n",
    "b = int(input(\"enter b = \"))\n",
    "if a > b:\n",
    "    print(a, \"is greater than\", b)\n",
    "elif b > a:\n",
    "    print(b, \"is greater than\", a)\n",
    "else:\n",
    "    print(a, b, \"are equal\")"
   ]
  },
  {
   "cell_type": "markdown",
   "id": "0bea6e53",
   "metadata": {},
   "source": [
    "math = int(input(\"Enter math Score =\"))\n",
    "chemistry = int(input(\"Enter chemistry Score =\"))\n",
    "physics = int(input(\"Enter physics Score =\"))\n",
    "english = int(input(\"Enter english Score =\"))\n",
    "nepali = int(input(\"Enter nepali Score =\"))\n",
    "\n",
    "total = math + chemistry + physics + english + nepali\n",
    "per = total/5\n",
    "if per >= 80:\n",
    "    grade = \"A\"\n",
    "elif per >=60:\n",
    "    grade = 'B'\n",
    "elif per >= 45:\n",
    "    grade = 'C'\n",
    "else:\n",
    "    grade = 'F'\n",
    "print(\"The total marks =\",total)\n",
    "print(\"The per =\", per)\n",
    "print(\"the grade = \", grade)"
   ]
  },
  {
   "cell_type": "code",
   "execution_count": 25,
   "id": "cb28e97d",
   "metadata": {},
   "outputs": [
    {
     "name": "stdout",
     "output_type": "stream",
     "text": [
      "Enter math Score =33\n",
      "Enter chemistry Score =33\n",
      "Enter physics Score =33\n",
      "Enter english Score =33\n",
      "Enter nepali Score =33\n",
      "The total marks = 165\n",
      "The per = 33.0\n",
      "the grade =  F\n"
     ]
    }
   ],
   "source": [
    "#use of two operator - The order of grade is reversed below\n",
    "math = int(input(\"Enter math Score =\"))\n",
    "chemistry = int(input(\"Enter chemistry Score =\"))\n",
    "physics = int(input(\"Enter physics Score =\"))\n",
    "english = int(input(\"Enter english Score =\"))\n",
    "nepali = int(input(\"Enter nepali Score =\"))\n",
    "\n",
    "total = math + chemistry + physics + english + nepali\n",
    "per = total/5\n",
    "\n",
    "if per >= 45 and per < 59:\n",
    "    grade = 'C'\n",
    "    \n",
    "elif per >=60 and per < 79:\n",
    "    grade = 'B'\n",
    "    \n",
    "elif per >= 80:\n",
    "    grade = \"A\"\n",
    "    \n",
    "else:\n",
    "    grade = 'F'\n",
    "print(\"The total marks =\",total)\n",
    "print(\"The per =\", per)\n",
    "print(\"the grade = \", grade)"
   ]
  },
  {
   "cell_type": "code",
   "execution_count": null,
   "id": "839f81e7",
   "metadata": {},
   "outputs": [],
   "source": []
  },
  {
   "cell_type": "code",
   "execution_count": 3,
   "id": "99c101db",
   "metadata": {},
   "outputs": [],
   "source": [
    "#logical \n",
    "# and &\n",
    "# or |"
   ]
  },
  {
   "cell_type": "code",
   "execution_count": 5,
   "id": "13f042aa",
   "metadata": {},
   "outputs": [
    {
     "name": "stdout",
     "output_type": "stream",
     "text": [
      "True\n",
      "False\n",
      "False\n",
      "False\n"
     ]
    }
   ],
   "source": [
    "print(True and True)\n",
    "print(True and False)\n",
    "print(False and True)\n",
    "print(False and False)"
   ]
  },
  {
   "cell_type": "code",
   "execution_count": 6,
   "id": "b594ff4a",
   "metadata": {},
   "outputs": [
    {
     "name": "stdout",
     "output_type": "stream",
     "text": [
      "True\n",
      "True\n",
      "True\n",
      "False\n"
     ]
    }
   ],
   "source": [
    "print(True or True)\n",
    "print(True or False)\n",
    "print(False or True)\n",
    "print(False or False)"
   ]
  },
  {
   "cell_type": "code",
   "execution_count": 12,
   "id": "2246ea41",
   "metadata": {},
   "outputs": [
    {
     "name": "stdout",
     "output_type": "stream",
     "text": [
      "Enter a = 2\n",
      "Enter b = 0\n",
      "Enter + 0 * //\n",
      "The value of 0 cannot be zero\n"
     ]
    }
   ],
   "source": [
    "a = int(input(\"Enter a = \"))\n",
    "b = int(input(\"Enter b = \"))\n",
    "o = input(\"Enter + 0 * /\")\n",
    "if o == \"+\":\n",
    "    print(a+b)\n",
    "elif o == \"*\":\n",
    "    print(a*b)\n",
    "elif o == \"/\" and b !=0:\n",
    "    print(a/b)\n",
    "elif o == \"/\" and b == 0:\n",
    "    print(\"The value of 0 cannot be zero\")\n",
    "else:\n",
    "    print(\"invalid operator\")"
   ]
  },
  {
   "cell_type": "code",
   "execution_count": 14,
   "id": "bf18b431",
   "metadata": {},
   "outputs": [
    {
     "name": "stdout",
     "output_type": "stream",
     "text": [
      "Enter a =  \n"
     ]
    },
    {
     "ename": "ValueError",
     "evalue": "invalid literal for int() with base 10: ' '",
     "output_type": "error",
     "traceback": [
      "\u001b[1;31m---------------------------------------------------------------------------\u001b[0m",
      "\u001b[1;31mValueError\u001b[0m                                Traceback (most recent call last)",
      "Cell \u001b[1;32mIn[14], line 2\u001b[0m\n\u001b[0;32m      1\u001b[0m \u001b[38;5;66;03m#use of while loop until value of a is given as 0\u001b[39;00m\n\u001b[1;32m----> 2\u001b[0m a \u001b[38;5;241m=\u001b[39m \u001b[38;5;28;43mint\u001b[39;49m\u001b[43m(\u001b[49m\u001b[38;5;28;43minput\u001b[39;49m\u001b[43m(\u001b[49m\u001b[38;5;124;43m\"\u001b[39;49m\u001b[38;5;124;43mEnter a = \u001b[39;49m\u001b[38;5;124;43m\"\u001b[39;49m\u001b[43m)\u001b[49m\u001b[43m)\u001b[49m\n\u001b[0;32m      3\u001b[0m b \u001b[38;5;241m=\u001b[39m \u001b[38;5;28mint\u001b[39m(\u001b[38;5;28minput\u001b[39m(\u001b[38;5;124m\"\u001b[39m\u001b[38;5;124mEnter b = \u001b[39m\u001b[38;5;124m\"\u001b[39m))\n\u001b[0;32m      4\u001b[0m o \u001b[38;5;241m=\u001b[39m \u001b[38;5;28minput\u001b[39m(\u001b[38;5;124m\"\u001b[39m\u001b[38;5;124mEnter + 0 * /\u001b[39m\u001b[38;5;124m\"\u001b[39m)\n",
      "\u001b[1;31mValueError\u001b[0m: invalid literal for int() with base 10: ' '"
     ]
    }
   ],
   "source": [
    "#use of while loop until value of a is given as 0\n",
    "a = int(input(\"Enter a = \"))\n",
    "b = int(input(\"Enter b = \"))\n",
    "o = input(\"Enter + 0 * /\")\n",
    "if o == \"+\":\n",
    "    print(a+b)\n",
    "elif o == \"*\":\n",
    "    print(a*b)\n",
    "elif o == \"/\" :\n",
    "    while b == 0:        # Loop until it is a blank line\n",
    "        b = int(input(\"Enter b = \"))   # Get the input again\n",
    "    print(a/b)\n",
    "elif o == \"/\" and b == 0:\n",
    "    print(\"The value of 0 cannot be zero\")\n",
    "else:\n",
    "    print(\"invalid operator\")"
   ]
  },
  {
   "cell_type": "code",
   "execution_count": 2,
   "id": "99281739",
   "metadata": {},
   "outputs": [
    {
     "name": "stdout",
     "output_type": "stream",
     "text": [
      "Please enter a number a =2\n",
      "Input is an integer number.\n",
      "Input number is:  2\n",
      "Please enter a number b =1\n",
      "Input is an integer number.\n",
      "Input number is:  1\n",
      "Enter +  * //\n",
      "2.0\n"
     ]
    }
   ],
   "source": [
    "#-- to force user to enter numeric value in input   -- https://pynative.com/python-check-user-input-is-number-or-string/\n",
    "while True:\n",
    "    a = input(\"Please enter a number a =\")\n",
    "    try:\n",
    "        a = int(a)\n",
    "        print(\"Input is an integer number.\")\n",
    "        print(\"Input number is: \", a)\n",
    "        break;\n",
    "    except ValueError:\n",
    "        try:\n",
    "            float(a)\n",
    "            print(\"Input is an float number.\")\n",
    "            print(\"Input number is: \", a)\n",
    "            break;\n",
    "        except ValueError:\n",
    "            print(\"This is not a number. Please enter a valid number\")\n",
    "\n",
    "            \n",
    "while True:\n",
    "    b = input(\"Please enter a number b =\")\n",
    "    try:\n",
    "        b = int(b)\n",
    "        print(\"Input is an integer number.\")\n",
    "        print(\"Input number is: \", b)\n",
    "        break;\n",
    "    except ValueError:\n",
    "        try:\n",
    "            float(b)\n",
    "            print(\"Input is an float number.\")\n",
    "            print(\"Input number is: \", b)\n",
    "            break;\n",
    "        except ValueError:\n",
    "            print(\"This is not a number. Please enter a valid number\")\n",
    "            \n",
    "o = input(\"Enter +  * /\")\n",
    "if o == \"+\":\n",
    "    print(a+b)\n",
    "elif o == \"*\":\n",
    "    print(a*b)\n",
    "elif o == \"/\" :\n",
    "    while b == 0:        # Loop until it is a blank line\n",
    "        b = int(input(\"Enter b = \"))   # Get the input again\n",
    "    print(a/b)\n",
    "elif o == \"/\" and b == 0:\n",
    "    print(\"The value of 0 cannot be zero\")\n",
    "else:\n",
    "    print(\"invalid operator\")"
   ]
  },
  {
   "cell_type": "code",
   "execution_count": 5,
   "id": "96a4a070",
   "metadata": {},
   "outputs": [
    {
     "name": "stdout",
     "output_type": "stream",
     "text": [
      "Please enter a number a =3\n",
      "Input is an integer number.\n",
      "Input number is:  3\n",
      "Please enter a number b =5\n",
      "Input is an integer number.\n",
      "Input number is:  5\n",
      "Input: (\n",
      "Input: )\n",
      "Input: %\n",
      "Input:  \n",
      "Input: 4\n",
      "Input: *\n",
      "15\n"
     ]
    }
   ],
   "source": [
    "#-- to force user to enter numeric value in input and force user to select options provided  -- https://pynative.com/python-check-user-input-is-number-or-string/\n",
    "while True:\n",
    "    a = input(\"Please enter a number a =\")\n",
    "    try:\n",
    "        a = int(a)\n",
    "        print(\"Input is an integer number.\")\n",
    "        print(\"Input number is: \", a)\n",
    "        break;\n",
    "    except ValueError:\n",
    "        try:\n",
    "            float(a)\n",
    "            print(\"Input is an float number.\")\n",
    "            print(\"Input number is: \", a)\n",
    "            break;\n",
    "        except ValueError:\n",
    "            print(\"This is not a number. Please enter a valid number\")\n",
    "\n",
    "            \n",
    "while True:\n",
    "    b = input(\"Please enter a number b =\")\n",
    "    try:\n",
    "        b = int(b)\n",
    "        print(\"Input is an integer number.\")\n",
    "        print(\"Input number is: \", b)\n",
    "        break;\n",
    "    except ValueError:\n",
    "        try:\n",
    "            float(b)\n",
    "            print(\"Input is an float number.\")\n",
    "            print(\"Input number is: \", b)\n",
    "            break;\n",
    "        except ValueError:\n",
    "            print(\"This is not a number. Please enter a valid number\")\n",
    "            \n",
    "            \n",
    "o = ''\n",
    "while o not in ['+', '*','/']:\n",
    "    o = input(\"Input: \")\n",
    "    \n",
    "# o = input(\"Enter +  * /\")\n",
    "if o == \"+\":\n",
    "    print(a+b)\n",
    "elif o == \"*\":\n",
    "    print(a*b)\n",
    "elif o == \"/\" :\n",
    "    while b == 0:        # Loop until it is a blank line\n",
    "        b = int(input(\"Enter b = \"))   # Get the input again\n",
    "    print(a/b)\n",
    "elif o == \"/\" and b == 0:\n",
    "    print(\"The value of 0 cannot be zero\")\n",
    "else:\n",
    "    print(\"invalid operator\")\n",
    "\n"
   ]
  },
  {
   "cell_type": "code",
   "execution_count": 57,
   "id": "d49c85d5",
   "metadata": {},
   "outputs": [
    {
     "name": "stdout",
     "output_type": "stream",
     "text": [
      "er\n"
     ]
    }
   ],
   "source": [
    "a =\"1\"\n",
    "type(a)\n",
    "if type(a) == int:\n",
    "    print(\"df\")\n",
    "else:\n",
    "    print(\"er\")"
   ]
  },
  {
   "cell_type": "code",
   "execution_count": null,
   "id": "ebc6acc8",
   "metadata": {},
   "outputs": [],
   "source": []
  },
  {
   "cell_type": "code",
   "execution_count": null,
   "id": "359ff32d",
   "metadata": {},
   "outputs": [],
   "source": []
  }
 ],
 "metadata": {
  "kernelspec": {
   "display_name": "Python 3 (ipykernel)",
   "language": "python",
   "name": "python3"
  },
  "language_info": {
   "codemirror_mode": {
    "name": "ipython",
    "version": 3
   },
   "file_extension": ".py",
   "mimetype": "text/x-python",
   "name": "python",
   "nbconvert_exporter": "python",
   "pygments_lexer": "ipython3",
   "version": "3.10.9"
  }
 },
 "nbformat": 4,
 "nbformat_minor": 5
}
