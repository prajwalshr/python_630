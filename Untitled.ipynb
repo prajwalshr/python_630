{
 "cells": [
  {
   "cell_type": "code",
   "execution_count": 1,
   "id": "72f36d1e",
   "metadata": {},
   "outputs": [
    {
     "name": "stdout",
     "output_type": "stream",
     "text": [
      "Collecting mysql-connector\n",
      "  Downloading mysql-connector-2.2.9.tar.gz (11.9 MB)\n",
      "     ---------------------------------------- 11.9/11.9 MB 2.9 MB/s eta 0:00:00\n",
      "  Preparing metadata (setup.py): started\n",
      "  Preparing metadata (setup.py): finished with status 'done'\n",
      "Building wheels for collected packages: mysql-connector\n",
      "  Building wheel for mysql-connector (setup.py): started\n",
      "  Building wheel for mysql-connector (setup.py): finished with status 'done'\n",
      "  Created wheel for mysql-connector: filename=mysql_connector-2.2.9-cp310-cp310-win_amd64.whl size=247958 sha256=f47143e56120852f0b520f3d39bfbf518dfd97cfec8c1e7aa12321ca78f57ae9\n",
      "  Stored in directory: c:\\users\\prajw\\appdata\\local\\pip\\cache\\wheels\\3e\\7f\\a3\\928a40d1ffd01dd16057f308042377afc505d56145375adf40\n",
      "Successfully built mysql-connector\n",
      "Installing collected packages: mysql-connector\n",
      "Successfully installed mysql-connector-2.2.9\n"
     ]
    }
   ],
   "source": [
    "!pip install mysql-connector"
   ]
  },
  {
   "cell_type": "code",
   "execution_count": 24,
   "id": "7708cb65",
   "metadata": {},
   "outputs": [],
   "source": [
    "import mysql.connector  \t\t#importing database\n",
    "\n",
    "database = mysql.connector.connect(\n",
    "    host=\"localhost\",\n",
    "    user=\"root\",\n",
    "    password=\"\",\n",
    "    database = \"python_class_630\"\n",
    ")\n",
    "db = database.cursor() \n",
    "\n"
   ]
  },
  {
   "cell_type": "code",
   "execution_count": 26,
   "id": "d2c06ee2",
   "metadata": {},
   "outputs": [
    {
     "name": "stdout",
     "output_type": "stream",
     "text": [
      "(2, 'Ram', 70, 80, 80, 90, 90, 90.0, 'B')\n",
      "(3, 'Shyam', 90, 70, 50, 90, 80, 90.0, 'A')\n",
      "(4, 'Hari', 90, 70, 50, 90, 80, 90.0, 'A')\n"
     ]
    }
   ],
   "source": [
    "db.execute(\"Select * from student\")\n",
    "result = db.fetchall()\n",
    "for x in result:\n",
    "    print(x)"
   ]
  },
  {
   "cell_type": "code",
   "execution_count": 9,
   "id": "131c2e3d",
   "metadata": {},
   "outputs": [
    {
     "name": "stdout",
     "output_type": "stream",
     "text": [
      "(1, 'Andrew', 80, 90, 50, 70, 70, 80.0, 'B')\n"
     ]
    }
   ],
   "source": [
    "db.execute(\"Select * from student where sn=1\")\n",
    "result = db.fetchall()\n",
    "for x in result:\n",
    "    print(x)"
   ]
  },
  {
   "cell_type": "code",
   "execution_count": 8,
   "id": "bbb83cac",
   "metadata": {},
   "outputs": [],
   "source": [
    "#insert\n",
    "sql = '''INSERT INTO `student` (`sn`, `name`, `physics`, `chemistry`, `math`, `english`, `total`, `per`, `grade`) VALUES ('4', 'Hari', '90', '70', '50', '90', '80', '90', 'A');'''\n",
    "db.execute(sql)\n",
    "database.commit()"
   ]
  },
  {
   "cell_type": "code",
   "execution_count": 14,
   "id": "f3677ac5",
   "metadata": {},
   "outputs": [
    {
     "name": "stdout",
     "output_type": "stream",
     "text": [
      "(1, 'Aarti', 80, 90, 50, 70, 70, 80.0, 'B')\n",
      "(2, 'Ram', 70, 80, 80, 90, 90, 90.0, 'B')\n",
      "(3, 'Shyam', 90, 70, 50, 90, 80, 90.0, 'A')\n",
      "(4, 'Hari', 90, 70, 50, 90, 80, 90.0, 'A')\n"
     ]
    }
   ],
   "source": [
    "db.execute(\"Select * from student\")\n",
    "result = db.fetchall()\n",
    "for x in result:\n",
    "    print(x)"
   ]
  },
  {
   "cell_type": "code",
   "execution_count": 16,
   "id": "af209325",
   "metadata": {},
   "outputs": [],
   "source": [
    "#update\n",
    "sql = '''update student set name = \"Baram\" where sn = 1'''\n",
    "db.execute(sql)\n",
    "database.commit()"
   ]
  },
  {
   "cell_type": "code",
   "execution_count": 17,
   "id": "37dc060e",
   "metadata": {},
   "outputs": [
    {
     "name": "stdout",
     "output_type": "stream",
     "text": [
      "(1, 'Baram', 80, 90, 50, 70, 70, 80.0, 'B')\n",
      "(2, 'Ram', 70, 80, 80, 90, 90, 90.0, 'B')\n",
      "(3, 'Shyam', 90, 70, 50, 90, 80, 90.0, 'A')\n",
      "(4, 'Hari', 90, 70, 50, 90, 80, 90.0, 'A')\n"
     ]
    }
   ],
   "source": [
    "#update\n",
    "db.execute(\"Select * from student\")\n",
    "result = db.fetchall()\n",
    "for x in result:\n",
    "    print(x)"
   ]
  },
  {
   "cell_type": "code",
   "execution_count": 18,
   "id": "fcbbd02e",
   "metadata": {},
   "outputs": [],
   "source": [
    "#delete\n",
    "sql = '''delete from student where sn =1'''\n",
    "db.execute(sql)\n",
    "database.commit()"
   ]
  },
  {
   "cell_type": "code",
   "execution_count": 23,
   "id": "45315d50",
   "metadata": {},
   "outputs": [
    {
     "ename": "NameError",
     "evalue": "name 'db' is not defined",
     "output_type": "error",
     "traceback": [
      "\u001b[1;31m---------------------------------------------------------------------------\u001b[0m",
      "\u001b[1;31mNameError\u001b[0m                                 Traceback (most recent call last)",
      "Cell \u001b[1;32mIn[23], line 2\u001b[0m\n\u001b[0;32m      1\u001b[0m \u001b[38;5;66;03m#update\u001b[39;00m\n\u001b[1;32m----> 2\u001b[0m \u001b[43mdb\u001b[49m\u001b[38;5;241m.\u001b[39mexecute(\u001b[38;5;124m\"\u001b[39m\u001b[38;5;124mSelect * from student\u001b[39m\u001b[38;5;124m\"\u001b[39m)\n\u001b[0;32m      3\u001b[0m result \u001b[38;5;241m=\u001b[39m db\u001b[38;5;241m.\u001b[39mfetchall()\n\u001b[0;32m      4\u001b[0m \u001b[38;5;28;01mfor\u001b[39;00m x \u001b[38;5;129;01min\u001b[39;00m result:\n",
      "\u001b[1;31mNameError\u001b[0m: name 'db' is not defined"
     ]
    }
   ],
   "source": [
    "#update\n",
    "db.execute(\"Select * from student\")\n",
    "result = db.fetchall()\n",
    "for x in result:\n",
    "    print(x)"
   ]
  },
  {
   "cell_type": "code",
   "execution_count": 20,
   "id": "1ad4bdd3",
   "metadata": {},
   "outputs": [],
   "source": [
    "#insert\n",
    "sql = '''INSERT INTO `student` (`sn`, `name`, `physics`, `chemistry`, `math`, `english`, `total`, `per`, `grade`) VALUES ('5', 'Giri', '80', '70', '50', '90', '80', '90', 'A');'''\n",
    "db.execute(sql)\n",
    "database.commit()"
   ]
  },
  {
   "cell_type": "code",
   "execution_count": null,
   "id": "63ca09f3",
   "metadata": {},
   "outputs": [],
   "source": [
    "for i in range(10):\n",
    "    name = input(\"Enter value = \")\n",
    "    physics= int(input(\"Enter value = \"))\n",
    "    chemistry= int(input(\"Enter value = \"))\n",
    "    physics= int(input(\"Enter value = \"))\n",
    "    physics= int(input(\"Enter value = \"))\n",
    "    physics= int(input(\"Enter value = \"))\n",
    "    physics= int(input(\"Enter value = \"))\n",
    "    \n",
    "    t = (name,physics,chemistry)\n",
    "    print(t)\n",
    "    sql = \"INSERT INTO `student` (`sn`, `name`, `physics`) VALUES (%s, %s, %s)\"\n",
    "    val = [t]\n",
    "    \n",
    "mycursor.executemany(sql, val)\n",
    "\n",
    "python_class_630.commit()\n",
    "\n",
    "print(mycursor.rowcount, \"record was inserted.\")\n",
    "\n",
    "\n",
    "\n"
   ]
  },
  {
   "cell_type": "markdown",
   "id": "0486a62b",
   "metadata": {},
   "source": []
  }
 ],
 "metadata": {
  "kernelspec": {
   "display_name": "Python 3 (ipykernel)",
   "language": "python",
   "name": "python3"
  },
  "language_info": {
   "codemirror_mode": {
    "name": "ipython",
    "version": 3
   },
   "file_extension": ".py",
   "mimetype": "text/x-python",
   "name": "python",
   "nbconvert_exporter": "python",
   "pygments_lexer": "ipython3",
   "version": "3.10.9"
  }
 },
 "nbformat": 4,
 "nbformat_minor": 5
}
