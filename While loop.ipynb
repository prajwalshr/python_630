{
 "cells": [
  {
   "cell_type": "code",
   "execution_count": 2,
   "id": "51df25a7",
   "metadata": {},
   "outputs": [
    {
     "name": "stdout",
     "output_type": "stream",
     "text": [
      "5\n",
      "4\n",
      "3\n",
      "2\n",
      "1\n",
      "0\n"
     ]
    }
   ],
   "source": [
    "for i in range(5,-1,-1):\n",
    "    print(i)"
   ]
  },
  {
   "cell_type": "code",
   "execution_count": 3,
   "id": "a2defae1",
   "metadata": {},
   "outputs": [
    {
     "name": "stdout",
     "output_type": "stream",
     "text": [
      "5 Hello World\n",
      "4 Hello World\n",
      "3 Hello World\n",
      "2 Hello World\n",
      "1 Hello World\n"
     ]
    }
   ],
   "source": [
    "i = 5\n",
    "while i>0:\n",
    "    print(i, \"Hello World\")\n",
    "    i = i -1"
   ]
  },
  {
   "cell_type": "code",
   "execution_count": 7,
   "id": "079207ad",
   "metadata": {},
   "outputs": [
    {
     "name": "stdout",
     "output_type": "stream",
     "text": [
      "Enter n =3\n",
      "Enter x = 2\n",
      "Enter x = 3\n",
      "Enter x = 4\n",
      "9\n"
     ]
    }
   ],
   "source": [
    "s = 0\n",
    "i = 0\n",
    "n = int(input(\"Enter n =\"))\n",
    "while i < n:\n",
    "    x = int(input(\"Enter x = \"))\n",
    "    s = s + x\n",
    "    i = i + 1\n",
    "print(s)"
   ]
  },
  {
   "cell_type": "markdown",
   "id": "90148d71",
   "metadata": {},
   "source": [
    "data =str()  # another way to create empty string\n",
    "n = int(input(\"Enter n + \"))\n",
    "while i < n:\n",
    "    name = input(\"Enter name = \")\n",
    "    phone = input(\"Enter phone = \")\n",
    "    info = name + \" \" + str(phone) + \"\\n\"\n",
    "    data = data + info \n",
    "    i = i + 1\n",
    "    \n",
    "print(data)"
   ]
  },
  {
   "cell_type": "code",
   "execution_count": 8,
   "id": "be29cd74",
   "metadata": {},
   "outputs": [
    {
     "name": "stdout",
     "output_type": "stream",
     "text": [
      "Enter n + 3\n",
      "Enter name = ram\n",
      "Enter phone = 21212\n",
      "Enter name = Bian\n",
      "Enter phone = 3434343\n",
      "Enter name = Rohan\n",
      "Enter phone = 53434343\n",
      "ram 21212\n",
      "Bian 3434343\n",
      "Rohan 53434343\n",
      "\n"
     ]
    }
   ],
   "source": [
    "data =str() # another way to create empty string \n",
    "i = 0\n",
    "n = int(input(\"Enter n + \")) \n",
    "while i < n: \n",
    "    name = input(\"Enter name = \") \n",
    "    phone = input(\"Enter phone = \")\n",
    "    info = name + \" \" + str(phone) + \"\\n\" \n",
    "    data = data + info\n",
    "    i = i + 1\n",
    "\n",
    "print(data)  # print the result at the end"
   ]
  },
  {
   "cell_type": "code",
   "execution_count": 11,
   "id": "45f34107",
   "metadata": {},
   "outputs": [
    {
     "name": "stdout",
     "output_type": "stream",
     "text": [
      "0\n",
      "1\n",
      "2\n",
      "3\n",
      "4\n"
     ]
    }
   ],
   "source": [
    "# use of control statmeent in while loop\n",
    "i = 0\n",
    "while i < 10:\n",
    "    if i == 5:\n",
    "        break\n",
    "    print(i)\n",
    "    i = i +1"
   ]
  },
  {
   "cell_type": "code",
   "execution_count": 1,
   "id": "b8cb10cd",
   "metadata": {},
   "outputs": [
    {
     "ename": "IndentationError",
     "evalue": "unexpected indent (2762515583.py, line 7)",
     "output_type": "error",
     "traceback": [
      "\u001b[1;36m  Cell \u001b[1;32mIn[1], line 7\u001b[1;36m\u001b[0m\n\u001b[1;33m    continue\u001b[0m\n\u001b[1;37m    ^\u001b[0m\n\u001b[1;31mIndentationError\u001b[0m\u001b[1;31m:\u001b[0m unexpected indent\n"
     ]
    }
   ],
   "source": [
    "# use of control statmeent in while loop \n",
    "# while using continue, you need to increment, otherwise, it will be in infinite loop\n",
    "i = 0\n",
    "while i < 10:\n",
    "     if i == 5:\n",
    "            i = i + 1\n",
    "                continue\n",
    "            print(i)\n",
    "            i = i +1"
   ]
  },
  {
   "cell_type": "code",
   "execution_count": null,
   "id": "b0ac5c32",
   "metadata": {},
   "outputs": [],
   "source": [
    "#loops in string\n",
    "# Sting is iterable\n",
    "a = \"Python\"\n",
    "for i in a:\n",
    "    print(i,\"Hello world\")"
   ]
  },
  {
   "cell_type": "code",
   "execution_count": 2,
   "id": "12c0f83f",
   "metadata": {},
   "outputs": [
    {
     "name": "stdout",
     "output_type": "stream",
     "text": [
      "P Hello world\n",
      "y Hello world\n",
      "t Hello world\n",
      "h Hello world\n",
      "o Hello world\n",
      "n Hello world\n",
      "  Hello world\n"
     ]
    }
   ],
   "source": [
    "#loops in string\n",
    "# Sting is iterable\n",
    "# space is treated as character\n",
    "a = \"Python \"\n",
    "for i in a:\n",
    "    print(i,\"Hello world\")"
   ]
  },
  {
   "cell_type": "code",
   "execution_count": 5,
   "id": "a1492633",
   "metadata": {},
   "outputs": [
    {
     "name": "stdout",
     "output_type": "stream",
     "text": [
      "Hello World I am Python.\n"
     ]
    }
   ],
   "source": [
    "a = \"Hello World I am Python. I am the best.\"\n",
    "for i in a:\n",
    "    if i == \".\":\n",
    "        print(i)\n",
    "        break    \n",
    "    print(i, end = \"\")"
   ]
  },
  {
   "cell_type": "code",
   "execution_count": 6,
   "id": "29e2df78",
   "metadata": {},
   "outputs": [],
   "source": [
    "# for else\n",
    "# while else"
   ]
  },
  {
   "cell_type": "code",
   "execution_count": 7,
   "id": "f3f9bd3d",
   "metadata": {},
   "outputs": [],
   "source": [
    "# prime - > 2,3,5,7,11,14,17,19\n",
    "# composite > 4,6,9,10,12,14"
   ]
  },
  {
   "cell_type": "code",
   "execution_count": 13,
   "id": "71d33441",
   "metadata": {},
   "outputs": [
    {
     "name": "stdout",
     "output_type": "stream",
     "text": [
      "Enter n =78\n",
      "The no. is composite\n"
     ]
    }
   ],
   "source": [
    "n = int(input(\"Enter n =\"))\n",
    "if n >=2:\n",
    "    for i in range(2,n):\n",
    "        if n%i==0:\n",
    "            print(\"The no. is composite\")\n",
    "            break\n",
    "    else:\n",
    "        print(\"The no.is prime\")\n",
    "else:\n",
    "    print(\"The no.should be greater than 2\")"
   ]
  },
  {
   "cell_type": "code",
   "execution_count": null,
   "id": "5e68355d",
   "metadata": {},
   "outputs": [],
   "source": []
  }
 ],
 "metadata": {
  "kernelspec": {
   "display_name": "Python 3 (ipykernel)",
   "language": "python",
   "name": "python3"
  },
  "language_info": {
   "codemirror_mode": {
    "name": "ipython",
    "version": 3
   },
   "file_extension": ".py",
   "mimetype": "text/x-python",
   "name": "python",
   "nbconvert_exporter": "python",
   "pygments_lexer": "ipython3",
   "version": "3.10.9"
  }
 },
 "nbformat": 4,
 "nbformat_minor": 5
}
