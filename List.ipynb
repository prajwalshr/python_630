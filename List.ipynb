{
 "cells": [
  {
   "cell_type": "code",
   "execution_count": 1,
   "id": "7252f565",
   "metadata": {},
   "outputs": [],
   "source": [
    "# Python collection\n",
    "# list\n",
    "# topple\n",
    "# dic\n",
    "# set\n",
    "# can store multiple data types"
   ]
  },
  {
   "cell_type": "code",
   "execution_count": 2,
   "id": "8912e3d6",
   "metadata": {},
   "outputs": [],
   "source": [
    "#list\n",
    "# support indexing \n",
    "# Multiple and Duplicate data - #Mutable - changable\n",
    "# Ordered\n",
    "# Mutable"
   ]
  },
  {
   "cell_type": "code",
   "execution_count": 3,
   "id": "09efb57a",
   "metadata": {},
   "outputs": [
    {
     "name": "stdout",
     "output_type": "stream",
     "text": [
      "<class 'list'>\n",
      "<class 'list'>\n"
     ]
    }
   ],
   "source": [
    "a = ['Apple', 'Ball', \"cat\",\"Fish\"]\n",
    "b = [1,2,3,4,5,6,7,8,9]\n",
    "print(type(a))\n",
    "print(type(b))"
   ]
  },
  {
   "cell_type": "code",
   "execution_count": 6,
   "id": "7e1c0347",
   "metadata": {},
   "outputs": [
    {
     "name": "stdout",
     "output_type": "stream",
     "text": [
      "Apple\n",
      "['Apple', 'Ball', 'cat']\n",
      "['Apple', 'cat']\n"
     ]
    }
   ],
   "source": [
    "a = ['Apple', 'Ball', \"cat\",\"Fish\"]\n",
    "print(a[0])\n",
    "print(a[0:3])\n",
    "print(a[0:3:2])\n"
   ]
  },
  {
   "cell_type": "code",
   "execution_count": 8,
   "id": "cdb487fa",
   "metadata": {},
   "outputs": [
    {
     "name": "stdout",
     "output_type": "stream",
     "text": [
      "[1, 2, 3, 4, 5, 6, 7, 8, 9, 1, 2, 3, 4]\n",
      "13\n"
     ]
    }
   ],
   "source": [
    "#ordered \n",
    "b = [1,2,3,4,5,6,7,8,9,1,2,3,4]\n",
    "print(b)\n",
    "print(len(b))"
   ]
  },
  {
   "cell_type": "code",
   "execution_count": 9,
   "id": "07b9087c",
   "metadata": {},
   "outputs": [
    {
     "name": "stdout",
     "output_type": "stream",
     "text": [
      "['Apple', 'Ball', 'cat', 'Fish', 1, 2, 3, 4, 5, 6, 7, 8, 9]\n"
     ]
    }
   ],
   "source": [
    "\n",
    "a = ['Apple', 'Ball', \"cat\",\"Fish\"]\n",
    "b = [1,2,3,4,5,6,7,8,9]\n",
    "c = a + b\n",
    "print(c)"
   ]
  },
  {
   "cell_type": "code",
   "execution_count": 11,
   "id": "72fcf926",
   "metadata": {},
   "outputs": [
    {
     "name": "stdout",
     "output_type": "stream",
     "text": [
      "['Apple', 'Ball', 'cat', 'Fish', 'Apple', 'Ball', 'cat', 'Fish']\n",
      "[1, 2, 3, 4, 5, 6, 7, 8, 9, 1, 2, 3, 4, 5, 6, 7, 8, 9]\n"
     ]
    }
   ],
   "source": [
    "a = ['Apple', 'Ball', \"cat\",\"Fish\"]\n",
    "b = [1,2,3,4,5,6,7,8,9]\n",
    "c = a * 2\n",
    "print(c)\n",
    "print(b * 2)"
   ]
  },
  {
   "cell_type": "raw",
   "id": "4774bb41",
   "metadata": {},
   "source": [
    "# user defined list\n",
    "$ to define empty list    a = [] or a = list()\n",
    "a = list()\n",
    "a = a + [\"Apple\"]\n",
    "a = a + [\"ball\"]\n",
    "a"
   ]
  },
  {
   "cell_type": "code",
   "execution_count": 15,
   "id": "78feb587",
   "metadata": {},
   "outputs": [
    {
     "name": "stdout",
     "output_type": "stream",
     "text": [
      "Enter n = 3\n",
      "Enter x = 4\n",
      "Enter x = 5\n",
      "Enter x = 6\n",
      "[4, 5, 6]\n"
     ]
    }
   ],
   "source": [
    "# inserting values in empty list\n",
    "a = []\n",
    "n =  int(input(\"Enter n = \"))\n",
    "for i in range(n):\n",
    "    x = int(input(\"Enter x = \"))\n",
    "    a = a + [x]\n",
    "    \n",
    "print(a)"
   ]
  },
  {
   "cell_type": "code",
   "execution_count": 16,
   "id": "e0c80bbe",
   "metadata": {},
   "outputs": [
    {
     "name": "stdout",
     "output_type": "stream",
     "text": [
      "The max value 3345\n"
     ]
    }
   ],
   "source": [
    "#getting max value\n",
    "a = [4,5,6,87,875,435,3345]\n",
    "print(\"The max value\", max(a))"
   ]
  },
  {
   "cell_type": "code",
   "execution_count": 17,
   "id": "fc16daef",
   "metadata": {},
   "outputs": [
    {
     "name": "stdout",
     "output_type": "stream",
     "text": [
      "The max value 4\n"
     ]
    }
   ],
   "source": [
    "#getting min value\n",
    "a = [4,5,6,87,875,435,3345]\n",
    "print(\"The min value\", min(a))"
   ]
  },
  {
   "cell_type": "code",
   "execution_count": 19,
   "id": "3a5c4d4e",
   "metadata": {},
   "outputs": [
    {
     "name": "stdout",
     "output_type": "stream",
     "text": [
      "The sum value 4757\n",
      "The avg = 679.5714285714286\n"
     ]
    }
   ],
   "source": [
    "#getting sum, avg value\n",
    "a = [4,5,6,87,875,435,3345]\n",
    "print(\"The sum value\", sum(a))\n",
    "print(\"The avg =\" , sum(a)/len(a))"
   ]
  },
  {
   "cell_type": "code",
   "execution_count": 21,
   "id": "0356c865",
   "metadata": {},
   "outputs": [
    {
     "name": "stdout",
     "output_type": "stream",
     "text": [
      "[1, 4, 5, 6, 23, 44, 87, 435, 875, 3345]\n",
      "[3345, 875, 435, 87, 44, 23, 6, 5, 4, 1]\n"
     ]
    }
   ],
   "source": [
    "#mutable - makes change in original list\n",
    "a = [4,5,6,87,875,435,3345, 1,23,44]\n",
    "a.sort()  # ascending\n",
    "print(a)\n",
    "a.reverse()\n",
    "print(a)"
   ]
  },
  {
   "cell_type": "code",
   "execution_count": 23,
   "id": "a6338190",
   "metadata": {},
   "outputs": [
    {
     "name": "stdout",
     "output_type": "stream",
     "text": [
      "['Appple', 'Banana', 'Cat', 'Xray', 'Zebra']\n"
     ]
    }
   ],
   "source": [
    "a = [\"Zebra\", \"Banana\",\"Xray\", \"Appple\", \"Cat\"]\n",
    "a.sort()\n",
    "print(a)"
   ]
  },
  {
   "cell_type": "code",
   "execution_count": 24,
   "id": "8e8b237d",
   "metadata": {},
   "outputs": [],
   "source": [
    "# data entry\n",
    "# append() insert() extend()\n",
    "\n",
    "# delete value\n",
    "# del remove() pop()"
   ]
  },
  {
   "cell_type": "code",
   "execution_count": 26,
   "id": "a6cc944c",
   "metadata": {},
   "outputs": [
    {
     "name": "stdout",
     "output_type": "stream",
     "text": [
      "['Apple', 'Banana']\n"
     ]
    }
   ],
   "source": [
    "#append()\n",
    "a = []\n",
    "a.append(\"Apple\")\n",
    "a.append(\"Banana\")\n",
    "print(a)"
   ]
  },
  {
   "cell_type": "code",
   "execution_count": 28,
   "id": "b0e1fb0e",
   "metadata": {},
   "outputs": [
    {
     "name": "stdout",
     "output_type": "stream",
     "text": [
      "Enter n = 3\n",
      "Enter x = 34\n",
      "Enter x = 43\n",
      "Enter x = 43\n",
      "[34, 43, 43]\n"
     ]
    }
   ],
   "source": [
    "a = []\n",
    "n =  int(input(\"Enter n = \"))\n",
    "for i in range(n):\n",
    "    x = int(input(\"Enter x = \"))\n",
    "    a.append(x)\n",
    "    \n",
    "print(a)"
   ]
  },
  {
   "cell_type": "raw",
   "id": "ae421c44",
   "metadata": {},
   "source": [
    "#insert() - put the value in index mentioned\n",
    "a = [243,34,3,546]\n",
    "a.insert(1,100)   # here 1 is the index value"
   ]
  },
  {
   "cell_type": "code",
   "execution_count": 29,
   "id": "c4984ed6",
   "metadata": {},
   "outputs": [
    {
     "name": "stdout",
     "output_type": "stream",
     "text": [
      "[1, 'one', 10.5]\n"
     ]
    }
   ],
   "source": [
    "# store various data type, but cannot run certain function\n",
    "a = [1,\"one\", 10.5]\n",
    "print(a)"
   ]
  },
  {
   "cell_type": "code",
   "execution_count": 30,
   "id": "4a53f465",
   "metadata": {},
   "outputs": [
    {
     "name": "stdout",
     "output_type": "stream",
     "text": [
      "243\n",
      "34\n",
      "3\n",
      "546\n"
     ]
    }
   ],
   "source": [
    "a = [243,34,3,546]\n",
    "for i in a:\n",
    "    print(i)"
   ]
  },
  {
   "cell_type": "code",
   "execution_count": 35,
   "id": "7f10bf0c",
   "metadata": {},
   "outputs": [
    {
     "name": "stdout",
     "output_type": "stream",
     "text": [
      "34\n"
     ]
    }
   ],
   "source": [
    "a = [243,34,3,546]\n",
    "print(a[1])\n"
   ]
  },
  {
   "cell_type": "code",
   "execution_count": 39,
   "id": "9f887997",
   "metadata": {},
   "outputs": [
    {
     "data": {
      "text/plain": [
       "[243, 34, 3, 546, 1, 2, 3, 4]"
      ]
     },
     "execution_count": 39,
     "metadata": {},
     "output_type": "execute_result"
    }
   ],
   "source": [
    "#extend()  - add multiple value\n",
    "a = [243,34,3,546]\n",
    "b = [1,2,3,4]\n",
    "a.extend(b)\n",
    "a\n"
   ]
  },
  {
   "cell_type": "code",
   "execution_count": 40,
   "id": "2dc67189",
   "metadata": {},
   "outputs": [
    {
     "data": {
      "text/plain": [
       "['zebra', 'Banana', 'Xray']"
      ]
     },
     "execution_count": 40,
     "metadata": {},
     "output_type": "execute_result"
    }
   ],
   "source": [
    "#update\n",
    "a = [\"Zebra\", \"Banana\",\"Xray\"]\n",
    "a[0] = \"zebra\"\n",
    "a"
   ]
  },
  {
   "cell_type": "code",
   "execution_count": 41,
   "id": "1691caae",
   "metadata": {},
   "outputs": [
    {
     "data": {
      "text/plain": [
       "0"
      ]
     },
     "execution_count": 41,
     "metadata": {},
     "output_type": "execute_result"
    }
   ],
   "source": [
    "#index - to find index - can be used for unique list\n",
    "a = [\"Zebra\", \"Banana\",\"Xray\"]\n",
    "a.index(\"Zebra\")"
   ]
  },
  {
   "cell_type": "code",
   "execution_count": 48,
   "id": "cdaa283d",
   "metadata": {},
   "outputs": [
    {
     "name": "stdout",
     "output_type": "stream",
     "text": [
      "0\n",
      "3\n"
     ]
    }
   ],
   "source": [
    "#find index of Zebra in duplicate\n",
    "a = [\"Zebra\", \"Banana\",\"Xray\", \"Zebra\", \"apple\", \"cat\"]\n",
    "a.index(\"Zebra\")\n",
    "for i in range(len(a)):\n",
    "    if a[i] == \"Zebra\":\n",
    "        print(i)\n"
   ]
  },
  {
   "cell_type": "code",
   "execution_count": 49,
   "id": "f918f12b",
   "metadata": {},
   "outputs": [
    {
     "data": {
      "text/plain": [
       "['zebra', 'Banana', 'Xray', 'zebra', 'apple', 'cat']"
      ]
     },
     "execution_count": 49,
     "metadata": {},
     "output_type": "execute_result"
    }
   ],
   "source": [
    "#find index of Zebra in duplicate\n",
    "a = [\"Zebra\", \"Banana\",\"Xray\", \"Zebra\", \"apple\", \"cat\"]\n",
    "a.index(\"Zebra\")\n",
    "for i in range(len(a)):\n",
    "    if a[i] == \"Zebra\":\n",
    "        a[i] = \"zebra\"\n",
    "        \n",
    "a"
   ]
  },
  {
   "cell_type": "code",
   "execution_count": 51,
   "id": "d05bf9c1",
   "metadata": {},
   "outputs": [
    {
     "data": {
      "text/plain": [
       "['Banana', 'Xray', 'Zebra', 'apple', 'cat']"
      ]
     },
     "execution_count": 51,
     "metadata": {},
     "output_type": "execute_result"
    }
   ],
   "source": [
    "#delete \n",
    "a = [\"Zebra\", \"Banana\",\"Xray\", \"Zebra\", \"apple\", \"cat\"]\n",
    "del a[0]\n",
    "a"
   ]
  },
  {
   "cell_type": "code",
   "execution_count": 52,
   "id": "e25a7f98",
   "metadata": {},
   "outputs": [
    {
     "data": {
      "text/plain": [
       "['Zebra', 'Xray', 'Zebra', 'apple', 'cat']"
      ]
     },
     "execution_count": 52,
     "metadata": {},
     "output_type": "execute_result"
    }
   ],
   "source": [
    "#remove()\n",
    "a = [\"Zebra\", \"Banana\",\"Xray\", \"Zebra\", \"apple\", \"cat\"]\n",
    "a.remove(\"Banana\")\n",
    "a"
   ]
  },
  {
   "cell_type": "code",
   "execution_count": 53,
   "id": "86b64a6a",
   "metadata": {},
   "outputs": [
    {
     "name": "stdout",
     "output_type": "stream",
     "text": [
      "['Banana', 'Xray', 'Zebra', 'apple', 'cat']\n"
     ]
    }
   ],
   "source": [
    "a = [\"Zebra\", \"Banana\",\"Xray\", \"Zebra\", \"apple\", \"cat\"]\n",
    "a.pop(0)\n",
    "print(a)"
   ]
  },
  {
   "cell_type": "code",
   "execution_count": 2,
   "id": "4f888bb0",
   "metadata": {},
   "outputs": [
    {
     "data": {
      "text/plain": [
       "['Banana', 'Xray', 'apple', 'cat']"
      ]
     },
     "execution_count": 2,
     "metadata": {},
     "output_type": "execute_result"
    }
   ],
   "source": [
    "## remove multiple\n",
    "a = [\"Zebra\", \"Banana\",\"Xray\", \"Zebra\", \"apple\", \"cat\"]\n",
    "l=a.count(\"Zebra\")\n",
    "for i in range(l):\n",
    "    a.remove(\"Zebra\")\n",
    "a"
   ]
  },
  {
   "cell_type": "code",
   "execution_count": 3,
   "id": "e8ac1edb",
   "metadata": {
    "scrolled": true
   },
   "outputs": [
    {
     "data": {
      "text/plain": [
       "0"
      ]
     },
     "execution_count": 3,
     "metadata": {},
     "output_type": "execute_result"
    }
   ],
   "source": [
    "## remove multiple\n",
    "a = [\"Zebra\", \"Banana\",\"Xray\", \"Zebra\", \"apple\", \"cat\"]\n",
    "a.index(\"Zebra\")"
   ]
  },
  {
   "cell_type": "code",
   "execution_count": 4,
   "id": "c3b08c4e",
   "metadata": {},
   "outputs": [
    {
     "name": "stdout",
     "output_type": "stream",
     "text": [
      "Zebra\n",
      "Banana\n",
      "Xray\n",
      "Zebra\n",
      "apple\n",
      "cat\n"
     ]
    }
   ],
   "source": [
    "\n",
    "a = [\"Zebra\", \"Banana\",\"Xray\", \"Zebra\", \"apple\", \"cat\"]\n",
    "for i in a:\n",
    "    print(i)"
   ]
  },
  {
   "cell_type": "code",
   "execution_count": 6,
   "id": "ef46b4f9",
   "metadata": {},
   "outputs": [
    {
     "name": "stdout",
     "output_type": "stream",
     "text": [
      "0\n",
      "3\n"
     ]
    }
   ],
   "source": [
    "get the index of duplicate value\n",
    "a = [\"Zebra\", \"Banana\",\"Xray\", \"Zebra\", \"apple\", \"cat\"]\n",
    "for i in range(len(a)):\n",
    "    if a[i] == \"Zebra\":    \n",
    "        print(i)"
   ]
  },
  {
   "cell_type": "code",
   "execution_count": 10,
   "id": "c35c3b9c",
   "metadata": {},
   "outputs": [
    {
     "name": "stdout",
     "output_type": "stream",
     "text": [
      "Yes\n",
      "2\n"
     ]
    }
   ],
   "source": [
    "#search and count\n",
    "a = [\"Zebra\", \"Banana\",\"Xray\", \"Zebra\", \"apple\", \"cat\"]\n",
    "if \"Zebra\" in a:\n",
    "    print(\"Yes\")\n",
    "    print(a.count(\"Zebra\"))\n",
    "else:\n",
    "    print(\"no\")"
   ]
  },
  {
   "cell_type": "code",
   "execution_count": 11,
   "id": "7dcb39e0",
   "metadata": {},
   "outputs": [
    {
     "name": "stdout",
     "output_type": "stream",
     "text": [
      "[[1, 2, 3], [4, 5, 6], [7, 8, 9]]\n",
      "<class 'list'>\n"
     ]
    }
   ],
   "source": [
    "#nested list/array/ two dimension array\n",
    "a = [[1,2,3],\n",
    "     [4,5,6],\n",
    "     [7,8,9]]\n",
    "print(a)\n",
    "print(type(a))\n"
   ]
  },
  {
   "cell_type": "code",
   "execution_count": 17,
   "id": "be94346d",
   "metadata": {},
   "outputs": [
    {
     "name": "stdout",
     "output_type": "stream",
     "text": [
      "Ram\n",
      "56\n"
     ]
    }
   ],
   "source": [
    "info = [[\"Ram\", 89, \"KTM\"],\n",
    "       [\"Shyam\", 56, \"Bhaktapur\"],\n",
    "       [\"Hari\",23, \"Pokhara\"]]\n",
    "\n",
    "info[0]\n",
    "print(info[0][0])\n",
    "print(info[1][1])"
   ]
  },
  {
   "cell_type": "code",
   "execution_count": 19,
   "id": "c20ae4d9",
   "metadata": {},
   "outputs": [],
   "source": [
    "info.append([\"Sita\", 54, \"lalitpur\"])"
   ]
  },
  {
   "cell_type": "code",
   "execution_count": 21,
   "id": "d3873f65",
   "metadata": {},
   "outputs": [
    {
     "data": {
      "text/plain": [
       "['Rama', 44, 'Bhatbhateni']"
      ]
     },
     "execution_count": 21,
     "metadata": {},
     "output_type": "execute_result"
    }
   ],
   "source": [
    "info[0]=[\"Rama\", 44, \"Bhatbhateni\"]\n",
    "info[0]"
   ]
  },
  {
   "cell_type": "code",
   "execution_count": 22,
   "id": "a1c4ce1e",
   "metadata": {},
   "outputs": [
    {
     "data": {
      "text/plain": [
       "[['Ram Prasad', 44, 'Bhatbhateni'],\n",
       " ['Shyam', 56, 'Bhaktapur'],\n",
       " ['Hari', 23, 'Pokhara'],\n",
       " ['Sita', 54, 'lalitpur']]"
      ]
     },
     "execution_count": 22,
     "metadata": {},
     "output_type": "execute_result"
    }
   ],
   "source": [
    "info[0][0] = \"Ram Prasad\"\n",
    "info"
   ]
  },
  {
   "cell_type": "code",
   "execution_count": 25,
   "id": "c3520edd",
   "metadata": {},
   "outputs": [
    {
     "name": "stdout",
     "output_type": "stream",
     "text": [
      "Enter surname =er\n",
      "Enter surname =ds\n",
      "Enter surname =ds\n",
      "[['Ram', 'er', 89, 'KTM'], ['Shyam', 'ds', 56, 'Bhaktapur'], ['Hari', 'ds', 23, 'Pokhara']]\n"
     ]
    }
   ],
   "source": [
    "info = [[\"Ram\", 89, \"KTM\"],\n",
    "       [\"Shyam\", 56, \"Bhaktapur\"],\n",
    "       [\"Hari\",23, \"Pokhara\"]]\n",
    "for i in range(len(info)):\n",
    "    x = input(\"Enter surname =\")\n",
    "    info[i].insert(1,x)\n",
    "print(info)"
   ]
  },
  {
   "cell_type": "code",
   "execution_count": 28,
   "id": "5f71dccb",
   "metadata": {},
   "outputs": [
    {
     "name": "stdout",
     "output_type": "stream",
     "text": [
      "Enter surname = of Ram = \n",
      "Enter surname = of Shyam = sd\n",
      "Enter surname = of Hari = sd\n",
      "[['Ram', '', 89, 'KTM'], ['Shyam', 'sd', 56, 'Bhaktapur'], ['Hari', 'sd', 23, 'Pokhara']]\n"
     ]
    }
   ],
   "source": [
    "# ask for last name and insert\n",
    "info = [[\"Ram\", 89, \"KTM\"],\n",
    "       [\"Shyam\", 56, \"Bhaktapur\"],\n",
    "       [\"Hari\",23, \"Pokhara\"]]\n",
    "for i in range(len(info)):\n",
    "    x = input(f\"Enter surname = of {info[i][0]} = \")\n",
    "    info[i].insert(1,x)\n",
    "print(info)"
   ]
  },
  {
   "cell_type": "code",
   "execution_count": 33,
   "id": "8107fbb5",
   "metadata": {},
   "outputs": [
    {
     "name": "stdout",
     "output_type": "stream",
     "text": [
      "Enter name =ram\n",
      "['Ram', 89, 'KTM']\n"
     ]
    }
   ],
   "source": [
    "#search\n",
    "info = [[\"Ram\", 89, \"KTM\"],\n",
    "       [\"Shyam\", 56, \"Bhaktapur\"],\n",
    "       [\"Hari\",23, \"Pokhara\"]]\n",
    "name = input(\"Enter name =\")\n",
    "for i in info:\n",
    "    if name.lower() == i[0].lower():\n",
    "        print(i)"
   ]
  },
  {
   "cell_type": "code",
   "execution_count": null,
   "id": "9b557186",
   "metadata": {},
   "outputs": [],
   "source": [
    "\n"
   ]
  }
 ],
 "metadata": {
  "kernelspec": {
   "display_name": "Python 3 (ipykernel)",
   "language": "python",
   "name": "python3"
  },
  "language_info": {
   "codemirror_mode": {
    "name": "ipython",
    "version": 3
   },
   "file_extension": ".py",
   "mimetype": "text/x-python",
   "name": "python",
   "nbconvert_exporter": "python",
   "pygments_lexer": "ipython3",
   "version": "3.10.9"
  }
 },
 "nbformat": 4,
 "nbformat_minor": 5
}
