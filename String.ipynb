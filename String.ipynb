{
 "cells": [
  {
   "cell_type": "code",
   "execution_count": 1,
   "id": "2a4ece1a",
   "metadata": {},
   "outputs": [
    {
     "name": "stdout",
     "output_type": "stream",
     "text": [
      "<class 'str'> <class 'str'> <class 'str'>\n"
     ]
    }
   ],
   "source": [
    "a = 'Hello World'\n",
    "b = \"Hello world\"\n",
    "c = '''Hello world'''\n",
    "\n",
    "print(type(a), type(b), type(c))"
   ]
  },
  {
   "cell_type": "code",
   "execution_count": 2,
   "id": "39bafe59",
   "metadata": {},
   "outputs": [
    {
     "name": "stdout",
     "output_type": "stream",
     "text": [
      "Hello world\n",
      "Hello world\n",
      "\n"
     ]
    }
   ],
   "source": [
    "a = \"Hello world\\n\"\n",
    "print(a*2)"
   ]
  },
  {
   "cell_type": "code",
   "execution_count": 3,
   "id": "2f9ae006",
   "metadata": {},
   "outputs": [
    {
     "name": "stdout",
     "output_type": "stream",
     "text": [
      "H\n",
      "e\n",
      "l\n",
      "l\n",
      "o\n",
      " \n",
      "w\n",
      "o\n",
      "r\n",
      "l\n",
      "d\n"
     ]
    }
   ],
   "source": [
    "a = \"Hello world\"\n",
    "for i in a:\n",
    "    print(i)"
   ]
  },
  {
   "cell_type": "code",
   "execution_count": 5,
   "id": "2d9a2078",
   "metadata": {},
   "outputs": [
    {
     "name": "stdout",
     "output_type": "stream",
     "text": [
      "11\n"
     ]
    }
   ],
   "source": [
    "a = \"Hello world\"\n",
    "print(len(a))"
   ]
  },
  {
   "cell_type": "code",
   "execution_count": 21,
   "id": "6edb173b",
   "metadata": {},
   "outputs": [
    {
     "name": "stdout",
     "output_type": "stream",
     "text": [
      "l\n",
      "r\n",
      "Hello\n",
      "Hlo\n",
      "Hello world I am Pythin\n"
     ]
    }
   ],
   "source": [
    "#string has the index/position\n",
    "a = \"Hello world I am Pythin\"\n",
    "print(a[2])\n",
    "print(a[8])\n",
    "print(a[0:5])  # provide character from 0 to 5 index and increment by 1 as default\n",
    "print(a[0:5:2]) # provide character from 0 to 5 index and increment by 2\n",
    "print(a[:]) # gives all character"
   ]
  },
  {
   "cell_type": "code",
   "execution_count": 20,
   "id": "f62a5101",
   "metadata": {},
   "outputs": [
    {
     "name": "stdout",
     "output_type": "stream",
     "text": [
      "n\n",
      "\n"
     ]
    }
   ],
   "source": [
    "# start reverse index from right to left (last to first)\n",
    "a = \"Python\"\n",
    "print(a[-1])\n",
    "print(a[-1])"
   ]
  },
  {
   "cell_type": "code",
   "execution_count": 19,
   "id": "26f9b1f0",
   "metadata": {},
   "outputs": [
    {
     "name": "stdout",
     "output_type": "stream",
     "text": [
      "nohtyP\n"
     ]
    }
   ],
   "source": [
    "a = \"Python\"\n",
    "print(a[::-1])"
   ]
  },
  {
   "cell_type": "code",
   "execution_count": 22,
   "id": "1015a209",
   "metadata": {},
   "outputs": [
    {
     "name": "stdout",
     "output_type": "stream",
     "text": [
      "noh\n"
     ]
    }
   ],
   "source": [
    "# print last 3 character in reverse order\n",
    "a = \"Hello world I am Python\"\n",
    "print(a[-1:-4:-1])"
   ]
  },
  {
   "cell_type": "code",
   "execution_count": 25,
   "id": "71025597",
   "metadata": {},
   "outputs": [
    {
     "name": "stdout",
     "output_type": "stream",
     "text": [
      "Enter name =andy\n",
      "Enter age =34\n",
      "Enter address = ktm\n",
      "Hello world I amandy. I am from ktm. I am 34.\n"
     ]
    }
   ],
   "source": [
    "#String formating  - do not forget to use \"f\"\n",
    "name = input(\"Enter name =\")\n",
    "age = int(input(\"Enter age =\"))\n",
    "add = input(\"Enter address = \")\n",
    "\n",
    "#info = \"Hello world I am \" + name + \"I am from\" + add + \"I am \" + str(age)\n",
    "info = f\"Hello world I am{name}. I am from {add}. I am {age}.\"\n",
    "print(info)"
   ]
  },
  {
   "cell_type": "code",
   "execution_count": 26,
   "id": "59de2e77",
   "metadata": {},
   "outputs": [
    {
     "name": "stdout",
     "output_type": "stream",
     "text": [
      "Yes, there is\n"
     ]
    }
   ],
   "source": [
    "#use search \n",
    "a = \"Ram shyam Hari Nabin Akash Sita Manish Ramesh\"\n",
    "name = \"shyam\"\n",
    "if name in a:\n",
    "    print(\"Yes, there is\")\n"
   ]
  },
  {
   "cell_type": "code",
   "execution_count": 27,
   "id": "f4474eb6",
   "metadata": {},
   "outputs": [
    {
     "name": "stdout",
     "output_type": "stream",
     "text": [
      "No, there is\n"
     ]
    }
   ],
   "source": [
    "a = \"Ram shyam Hari Nabin Akash Sita Manish Ramesh\"\n",
    "name = \"Rajesh\"\n",
    "if name not in a:\n",
    "    print(\"No, there is\")"
   ]
  },
  {
   "cell_type": "code",
   "execution_count": 1,
   "id": "bd49fed4",
   "metadata": {},
   "outputs": [
    {
     "name": "stdout",
     "output_type": "stream",
     "text": [
      "Enter name = d\n"
     ]
    }
   ],
   "source": [
    "#use search \n",
    "a = \"Ram shyam Hari Nabin Akash Sita Manish Ramesh\"\n",
    "name = input(\"Enter name = \")\n",
    "if name in a:\n",
    "    print(\"Yes, there is\")\n",
    "    print(a.count(name))"
   ]
  },
  {
   "cell_type": "code",
   "execution_count": 33,
   "id": "2d10f5f0",
   "metadata": {},
   "outputs": [
    {
     "name": "stdout",
     "output_type": "stream",
     "text": [
      "ram shyam hari nabin akash sita manish ramesh\n",
      "RAM SHYAM HARI NABIN AKASH SITA MANISH RAMESH\n"
     ]
    }
   ],
   "source": [
    "3use of emutable data type\n",
    "a = \"Ram shyam Hari Nabin Akash Sita Manish Ramesh\"\n",
    "print(a.lower())\n",
    "print(a.upper())"
   ]
  },
  {
   "cell_type": "code",
   "execution_count": 35,
   "id": "93d17147",
   "metadata": {},
   "outputs": [
    {
     "name": "stdout",
     "output_type": "stream",
     "text": [
      "Ram Shyam Hari Nabin Akash Sita Manish Ramesh\n"
     ]
    }
   ],
   "source": [
    "a = \"Ram shyam Hari Nabin Akash Sita Manish Ramesh\"\n",
    "print(a.title())"
   ]
  },
  {
   "cell_type": "code",
   "execution_count": 4,
   "id": "4ebcf461",
   "metadata": {},
   "outputs": [
    {
     "name": "stdout",
     "output_type": "stream",
     "text": [
      "Enter name = rAm\n",
      "Yes, there is\n",
      "2\n"
     ]
    }
   ],
   "source": [
    "a = \"Ram shyam Hari Nabin Akash Sita Manish Ramesh\".lower()\n",
    "name = input(\"Enter name = \").lower()\n",
    "if name in a:\n",
    "    print(\"Yes, there is\")\n",
    "    print(a.count(name))"
   ]
  },
  {
   "cell_type": "code",
   "execution_count": 5,
   "id": "8f5e7c76",
   "metadata": {},
   "outputs": [
    {
     "data": {
      "text/plain": [
       "['ram', 'shyam', 'hari', 'nabin', 'akash', 'sita', 'manish', 'ramesh']"
      ]
     },
     "execution_count": 5,
     "metadata": {},
     "output_type": "execute_result"
    }
   ],
   "source": [
    "a = \"Ram shyam Hari Nabin Akash Sita Manish Ramesh\".lower()\n",
    "a.split()"
   ]
  },
  {
   "cell_type": "code",
   "execution_count": null,
   "id": "99716ded",
   "metadata": {},
   "outputs": [],
   "source": []
  }
 ],
 "metadata": {
  "kernelspec": {
   "display_name": "Python 3 (ipykernel)",
   "language": "python",
   "name": "python3"
  },
  "language_info": {
   "codemirror_mode": {
    "name": "ipython",
    "version": 3
   },
   "file_extension": ".py",
   "mimetype": "text/x-python",
   "name": "python",
   "nbconvert_exporter": "python",
   "pygments_lexer": "ipython3",
   "version": "3.10.9"
  }
 },
 "nbformat": 4,
 "nbformat_minor": 5
}
