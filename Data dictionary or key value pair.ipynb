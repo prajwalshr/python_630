{
 "cells": [
  {
   "cell_type": "code",
   "execution_count": 1,
   "id": "f392e469",
   "metadata": {},
   "outputs": [],
   "source": [
    "# #DICT\n",
    "# #Indexing\n",
    "# Multiple data\n",
    "# #ordered\n",
    "# #mutable\n",
    "\n"
   ]
  },
  {
   "cell_type": "code",
   "execution_count": 6,
   "id": "975bc64a",
   "metadata": {},
   "outputs": [
    {
     "name": "stdout",
     "output_type": "stream",
     "text": [
      "{'a': 'Apple', 'b': 'Ball'}\n",
      "2\n"
     ]
    }
   ],
   "source": [
    "d = { \"a\":\"Apple\", \"b\":\"Ball\"}\n",
    "print(d)\n",
    "print(len(d))"
   ]
  },
  {
   "cell_type": "code",
   "execution_count": null,
   "id": "a88c0013",
   "metadata": {},
   "outputs": [],
   "source": [
    "#ordered\n",
    "print(d[\"a\"])\n",
    "print(d[\"b\"])"
   ]
  },
  {
   "cell_type": "code",
   "execution_count": 7,
   "id": "621d6814",
   "metadata": {},
   "outputs": [
    {
     "name": "stdout",
     "output_type": "stream",
     "text": [
      "{'a': 'apple'}\n"
     ]
    }
   ],
   "source": [
    "d = {\"a\":\"apple\"}\n",
    "print(d)"
   ]
  },
  {
   "cell_type": "code",
   "execution_count": null,
   "id": "b72a2b9f",
   "metadata": {},
   "outputs": [],
   "source": [
    "#d = dict{}\n",
    "#d = {}"
   ]
  },
  {
   "cell_type": "code",
   "execution_count": 9,
   "id": "63f27ea8",
   "metadata": {},
   "outputs": [
    {
     "data": {
      "text/plain": [
       "{'a': 'apple', 'b': 'bat', 'c': 'cat', 'd': 'dog'}"
      ]
     },
     "execution_count": 9,
     "metadata": {},
     "output_type": "execute_result"
    }
   ],
   "source": [
    "#mutable\n",
    "d = {}\n",
    "d['a']=\"apple\"\n",
    "d['b'] = \"bat\"\n",
    "d['c'] = \"cat\"\n",
    "d[\"d\"] = \"dog\"\n",
    "d"
   ]
  },
  {
   "cell_type": "code",
   "execution_count": 10,
   "id": "6a229056",
   "metadata": {},
   "outputs": [
    {
     "data": {
      "text/plain": [
       "{'a': 'apple', 'b': 'boy'}"
      ]
     },
     "execution_count": 10,
     "metadata": {},
     "output_type": "execute_result"
    }
   ],
   "source": [
    "#update \n",
    "a = { \"a\":\"Apple\", \"b\":\"Ball\"}\n",
    "a['a']= \"apple\"\n",
    "a['b'] = 'boy'\n",
    "a"
   ]
  },
  {
   "cell_type": "code",
   "execution_count": 11,
   "id": "e12a954a",
   "metadata": {},
   "outputs": [
    {
     "data": {
      "text/plain": [
       "{'a': 'Apple', 'b': 'Ball', 'A': 'ant'}"
      ]
     },
     "execution_count": 11,
     "metadata": {},
     "output_type": "execute_result"
    }
   ],
   "source": [
    "#add\n",
    "a = { \"a\":\"Apple\", \"b\":\"Ball\"}\n",
    "a['A'] = \"ant\"\n",
    "a"
   ]
  },
  {
   "cell_type": "code",
   "execution_count": 12,
   "id": "c200347a",
   "metadata": {},
   "outputs": [
    {
     "name": "stdout",
     "output_type": "stream",
     "text": [
      "a\n",
      "b\n",
      "c\n"
     ]
    }
   ],
   "source": [
    "# print only keys\n",
    "a = { \"a\":\"Apple\", \"b\":\"Ball\", \"c\":\"cat\"}\n",
    "for i in a:\n",
    "    print(i)"
   ]
  },
  {
   "cell_type": "code",
   "execution_count": 14,
   "id": "8028bcb7",
   "metadata": {},
   "outputs": [
    {
     "name": "stdout",
     "output_type": "stream",
     "text": [
      "Apple\n",
      "Ball\n",
      "cat\n",
      "Apple\n",
      "Ball\n",
      "cat\n"
     ]
    }
   ],
   "source": [
    "#print only values\n",
    "a = { \"a\":\"Apple\", \"b\":\"Ball\", \"c\":\"cat\"}\n",
    "for i in a.values():\n",
    "    print(i)\n",
    "    "
   ]
  },
  {
   "cell_type": "code",
   "execution_count": 18,
   "id": "9e84ce15",
   "metadata": {},
   "outputs": [
    {
     "name": "stdout",
     "output_type": "stream",
     "text": [
      "('a', 'Apple')\n",
      "('b', 'Ball')\n",
      "('c', 'cat')\n",
      "id\n",
      "nsmr\n",
      "234455\n",
      "Tery\n",
      "('id', 234455)\n",
      "('nsmr', 'Tery')\n"
     ]
    }
   ],
   "source": [
    "#print only key pair values\n",
    "a = { \"a\":\"Apple\", \"b\":\"Ball\", \"c\":\"cat\"}\n",
    "for i in a.items():\n",
    "    print(i)\n",
    "\n",
    "history = {\"id\": 234455, \"nsmr\":\"Tery\"}\n",
    "for i in history.keys():\n",
    "    print(i)\n",
    "    \n",
    "for i in history.values():\n",
    "    print(i)\n",
    "    \n",
    "for i in history.items():\n",
    "    print (i)"
   ]
  },
  {
   "cell_type": "code",
   "execution_count": 23,
   "id": "f9a42be9",
   "metadata": {},
   "outputs": [
    {
     "name": "stdout",
     "output_type": "stream",
     "text": [
      "Enter n =1\n",
      "Enter name =sds\n",
      "Enter phone =22121\n",
      "{'name': 22121}\n"
     ]
    }
   ],
   "source": [
    "phonebook = {}\n",
    "n = int(input(\"Enter n =\"))\n",
    "for i in range(n):\n",
    "    name=input(\"Enter name =\")\n",
    "    phone =int(input(\"Enter phone =\"))\n",
    "    phonebook[name] = phone\n",
    "    \n",
    "print(phonebook)"
   ]
  },
  {
   "cell_type": "code",
   "execution_count": 24,
   "id": "be7f3946",
   "metadata": {},
   "outputs": [
    {
     "name": "stdout",
     "output_type": "stream",
     "text": [
      "Enter n =1\n",
      "Enter name = ssd\n",
      "Enter phone =221212\n",
      "{'ssd': 221212}\n"
     ]
    }
   ],
   "source": [
    "#using loop to create dictionary\n",
    "d = {}\n",
    "n = int(input(\"Enter n =\"))\n",
    "for i in range(n):\n",
    "    name = input(\"Enter name = \")\n",
    "    phone = int(input(\"Enter phone =\"))\n",
    "    d[name] = phone\n",
    "print(d)"
   ]
  },
  {
   "cell_type": "code",
   "execution_count": 27,
   "id": "a6e76ae9",
   "metadata": {},
   "outputs": [
    {
     "data": {
      "text/plain": [
       "{'a': 'Apple', 'b': 'Ball', 'c': 'cat', 'e': 'Egg', 'f': 'fish', 'g': 'girl'}"
      ]
     },
     "execution_count": 27,
     "metadata": {},
     "output_type": "execute_result"
    }
   ],
   "source": [
    "#cannot use arthimaetic operator\n",
    "d = { \"a\":\"Apple\", \"b\":\"Ball\", \"c\":\"cat\"} \n",
    "a = {'e': \"Egg\", 'f':'fish'} \n",
    "c = {'g':'girl'} \n",
    "d.update(a) \n",
    "d.update(c) \n",
    "d"
   ]
  },
  {
   "cell_type": "markdown",
   "id": "e7ab8a7f",
   "metadata": {},
   "source": [
    "# cannot use arthimaetic operator\n",
    "d = { \"a\":\"Apple\", \"b\":\"Ball\", \"c\":\"cat\"}\n",
    "a = {'e': \"Egg\", 'f':'fish'}\n",
    "c = {'g':'girl}\n",
    "d.update(a)\n",
    "d.update(c)\n",
    "d"
   ]
  },
  {
   "cell_type": "code",
   "execution_count": 28,
   "id": "61f8831c",
   "metadata": {},
   "outputs": [
    {
     "data": {
      "text/plain": [
       "{'c': 'cat'}"
      ]
     },
     "execution_count": 28,
     "metadata": {},
     "output_type": "execute_result"
    }
   ],
   "source": [
    "#del\n",
    "d = { \"a\":\"Apple\", \"b\":\"Ball\", \"c\":\"cat\"}\n",
    "del d['a']\n",
    "del d['b']\n",
    "d"
   ]
  },
  {
   "cell_type": "code",
   "execution_count": 29,
   "id": "59ca01a5",
   "metadata": {},
   "outputs": [
    {
     "name": "stdout",
     "output_type": "stream",
     "text": [
      "{'b': 'Ball', 'c': 'cat'}\n",
      "Apple\n"
     ]
    }
   ],
   "source": [
    "#pop\n",
    "a = { \"a\":\"Apple\", \"b\":\"Ball\", \"c\":\"cat\"}\n",
    "b = a.pop('a')\n",
    "print(a)\n",
    "print(b)\n"
   ]
  },
  {
   "cell_type": "code",
   "execution_count": 33,
   "id": "7706606c",
   "metadata": {},
   "outputs": [
    {
     "data": {
      "text/plain": [
       "{'Ram': '[232334,54545]', 'Shyam': '435353'}"
      ]
     },
     "execution_count": 33,
     "metadata": {},
     "output_type": "execute_result"
    }
   ],
   "source": [
    "#list inside dict\n",
    "a = { \"Ram\":\"[232334,54545]\", \"Shyam\":\"435353\"}\n",
    "a"
   ]
  },
  {
   "cell_type": "code",
   "execution_count": 62,
   "id": "df524043",
   "metadata": {},
   "outputs": [
    {
     "name": "stdout",
     "output_type": "stream",
     "text": [
      "[232334, 54545]\n"
     ]
    }
   ],
   "source": [
    "#list inside dict\n",
    "a = { \"Ram\":[232334,54545], \"Shyam\":435353}\n",
    "print(a[\"Ram\"])"
   ]
  },
  {
   "cell_type": "code",
   "execution_count": 33,
   "id": "2d62d145",
   "metadata": {},
   "outputs": [
    {
     "data": {
      "text/plain": [
       "{'Ram': '[232334,54545]', 'Shyam': '435353'}"
      ]
     },
     "execution_count": 33,
     "metadata": {},
     "output_type": "execute_result"
    }
   ],
   "source": []
  },
  {
   "cell_type": "code",
   "execution_count": null,
   "id": "afe31d2e",
   "metadata": {},
   "outputs": [],
   "source": []
  },
  {
   "cell_type": "code",
   "execution_count": 39,
   "id": "80a818ba",
   "metadata": {},
   "outputs": [
    {
     "name": "stdout",
     "output_type": "stream",
     "text": [
      "54545\n"
     ]
    }
   ],
   "source": [
    "a = {\"Ram\":[232334,54545], \"Shyam\":435353}\n",
    "print(a['Ram'][1])"
   ]
  },
  {
   "cell_type": "code",
   "execution_count": 40,
   "id": "9fd72b3d",
   "metadata": {},
   "outputs": [
    {
     "data": {
      "text/plain": [
       "{'Ram': [989833, 777777], 'Shyam': 435353}"
      ]
     },
     "execution_count": 40,
     "metadata": {},
     "output_type": "execute_result"
    }
   ],
   "source": [
    "a = { \"Ram\":[232334,54545], \"Shyam\":435353}\n",
    "a['Ram'][0] = 989833\n",
    "a[\"Ram\"][1] = 777777\n",
    "a"
   ]
  },
  {
   "cell_type": "code",
   "execution_count": null,
   "id": "273e8732",
   "metadata": {},
   "outputs": [],
   "source": []
  },
  {
   "cell_type": "code",
   "execution_count": 42,
   "id": "e7516083",
   "metadata": {},
   "outputs": [
    {
     "name": "stdout",
     "output_type": "stream",
     "text": [
      "Enter n = 2\n",
      "Enter name =dsddd4\n",
      "Enter ntc phone =343\n",
      "Enter ncell phone =23234\n",
      "Enter name =fdgtgt\n",
      "Enter ntc phone =3434\n",
      "Enter ncell phone =544\n",
      "{'dsddd4': [343, 23234], 'fdgtgt': [3434, 544]}\n"
     ]
    }
   ],
   "source": [
    "#list inside dictionary\n",
    "d = {}\n",
    "n = int(input(\"Enter n = \"))\n",
    "for i in range(n):\n",
    "    name=input(\"Enter name =\")\n",
    "    ntc_phone=int(input(\"Enter ntc phone =\"))\n",
    "    ncell_phone = int(input(\"Enter ncell phone =\"))\n",
    "    d[name]=[ntc_phone, ncell_phone]\n",
    "    \n",
    "print(d)"
   ]
  },
  {
   "cell_type": "code",
   "execution_count": 44,
   "id": "604b4e0f",
   "metadata": {},
   "outputs": [
    {
     "name": "stdout",
     "output_type": "stream",
     "text": [
      "Enter n =2\n",
      "Enter name =Andy\n",
      "Enter your primary number = 2222222\n",
      "Enter your sec phone = 333333\n",
      "Enter name =cane\n",
      "Enter your primary number = 5432323\n",
      "Enter your sec phone = 4444444\n",
      "{'Andy': [2222222, 333333], 'cane': [5432323, 4444444]}\n"
     ]
    }
   ],
   "source": [
    "#list inside dict\n",
    "phonebook = {}\n",
    "n = int(input(\"Enter n =\"))\n",
    "for i in range(n):\n",
    "    name = input(\"Enter name =\")\n",
    "    primary_phone = int(input(\"Enter your primary number = \"))\n",
    "    secondary_phone = int(input(\"Enter your sec phone = \"))\n",
    "    phonebook[name] = [primary_phone, secondary_phone]\n",
    "                          \n",
    "print(phonebook)"
   ]
  },
  {
   "cell_type": "code",
   "execution_count": 47,
   "id": "5028bf7d",
   "metadata": {},
   "outputs": [
    {
     "name": "stdout",
     "output_type": "stream",
     "text": [
      "{'name': ['Ram', 'Shyam', 'Hari', 'Ram'], 'age': [78, 89, 67, 89], 'add': ['Kathmandu', 'Bhaktapur', 'Lalitpur', 'Kathmandu']}\n"
     ]
    }
   ],
   "source": [
    "info = {'name':['Ram',\"Shyam\",\"Hari\",\"Ram\"], 'age':[78,89,67,89],'add':['Kathmandu','Bhaktapur','Lalitpur',\"Kathmandu\"]}\n",
    "print(info)"
   ]
  },
  {
   "cell_type": "code",
   "execution_count": 51,
   "id": "dcfc1a4c",
   "metadata": {},
   "outputs": [
    {
     "name": "stdout",
     "output_type": "stream",
     "text": [
      "Ram\n",
      "78\n",
      "Kathmandu\n",
      "Ram\n"
     ]
    }
   ],
   "source": [
    "print(info['name'][0])\n",
    "print(info['age'][0])\n",
    "print(info['add'][0])\n",
    "print(info['name'][3])"
   ]
  },
  {
   "cell_type": "code",
   "execution_count": 52,
   "id": "d5832f09",
   "metadata": {},
   "outputs": [
    {
     "data": {
      "text/plain": [
       "{'name': 'Andy', 'age': 34, 'add': 'ktm'}"
      ]
     },
     "execution_count": 52,
     "metadata": {},
     "output_type": "execute_result"
    }
   ],
   "source": [
    "#dict inside list\n",
    "data = [{'name':'Andy', 'age': 34, 'add': 'ktm'},\n",
    "        {'name': 'Shyma', 'age': 25, 'add':'jhapa'},\n",
    "        {'name': 'Hari', 'age': 25, 'add':'thamel'}]\n",
    "data[0]    \n",
    "       \n",
    "       \n"
   ]
  },
  {
   "cell_type": "code",
   "execution_count": 11,
   "id": "a59147fe",
   "metadata": {},
   "outputs": [
    {
     "data": {
      "text/plain": [
       "{'name': 'Andy', 'age': 34, 'add': ['ktm', 'jhapa']}"
      ]
     },
     "execution_count": 11,
     "metadata": {},
     "output_type": "execute_result"
    }
   ],
   "source": [
    "#dict inside list\n",
    "data = [{'name':'Andy', 'age': 34, 'add': ['ktm','jhapa']},\n",
    "        {'name': 'Shyma', 'age': 25, 'add':['jhapa', 'dhading']},\n",
    "        {'name': 'Hari', 'age': 25, 'add':['thamel','thans']}]\n",
    "data[0] \n",
    "       \n",
    "       \n"
   ]
  },
  {
   "cell_type": "code",
   "execution_count": 12,
   "id": "7b5215a8",
   "metadata": {},
   "outputs": [
    {
     "data": {
      "text/plain": [
       "'jhapa'"
      ]
     },
     "execution_count": 12,
     "metadata": {},
     "output_type": "execute_result"
    }
   ],
   "source": [
    "#dict inside dict\n",
    "data = {1:{'name':'Andy', 'age': 34, 'add': 'ktm'},\n",
    "       2:{'name': 'Shyma', 'age': 25, 'add':'jhapa'},\n",
    "       3:{'name': 'Hari', 'age': 25, 'add':'thamel'}}\n",
    "data[2]['add'] \n",
    "       \n",
    "       \n"
   ]
  },
  {
   "cell_type": "code",
   "execution_count": null,
   "id": "a5cc0bde",
   "metadata": {},
   "outputs": [],
   "source": [
    "WAP to create dict inside dict with crud\n",
    "wap to create list in dict with crud\n",
    "wap to create dict inside list with crud"
   ]
  },
  {
   "cell_type": "code",
   "execution_count": 2,
   "id": "e098bc29",
   "metadata": {},
   "outputs": [
    {
     "name": "stdout",
     "output_type": "stream",
     "text": [
      "Enter n =2\n",
      "Enter name =ram\n",
      "Enter age =32\n",
      "Enter add =sir\n",
      "Enter name =shyam\n",
      "Enter age =45\n",
      "Enter add =tret4\n",
      "{'name': ['ram', 'shyam'], 'age': [32, 45], 'add': ['sir', 'tret4']}\n"
     ]
    }
   ],
   "source": [
    "#wap to create list in dict with crud\n",
    "d = {'name':[], 'age':[],'add':[]}\n",
    "n = int(input(\"Enter n =\"))\n",
    "for i in range(n):\n",
    "    name = input(\"Enter name =\")\n",
    "    age = int(input(\"Enter age =\"))\n",
    "    add = input(\"Enter add =\")\n",
    "    d['name'].append(name)\n",
    "    d['age'].append(age)\n",
    "    d['add'].append(add)\n",
    "    \n",
    "print(d)"
   ]
  },
  {
   "cell_type": "code",
   "execution_count": 4,
   "id": "38a28fe3",
   "metadata": {},
   "outputs": [
    {
     "name": "stdout",
     "output_type": "stream",
     "text": [
      "Enter n =2\n",
      "Enter name =ram\n",
      "Enter age =23\n",
      "Enter add =rer\n",
      "Enter name =shyam4\n",
      "Enter age =43\n",
      "Enter add =rere\n",
      "[{'name': 'ram', 'age': 23, 'add': 'rer'}, {'name': 'shyam4', 'age': 43, 'add': 'rere'}]\n"
     ]
    }
   ],
   "source": [
    "#wap to create dict inside list with crud\n",
    "list = []\n",
    "n = int(input(\"Enter n =\"))\n",
    "for i in range(n):\n",
    "    name = input(\"Enter name =\")\n",
    "    age = int(input(\"Enter age =\"))\n",
    "    add = input(\"Enter add =\")\n",
    "    data = {'name':name,'age':age, 'add':add}\n",
    "    list.append(data)\n",
    "    \n",
    "print(list)"
   ]
  },
  {
   "cell_type": "code",
   "execution_count": 5,
   "id": "8077cc69",
   "metadata": {},
   "outputs": [
    {
     "name": "stdout",
     "output_type": "stream",
     "text": [
      "Enter n =2\n",
      "Enter name =ram\n",
      "Enter age =22\n",
      "Enter add =re\n",
      "Enter name =shyam\n",
      "Enter age =33\n",
      "Enter add =assds\n",
      "{0: {'name': 'ram', 'age': 22, 'add': 're'}, 1: {'name': 'shyam', 'age': 33, 'add': 'assds'}}\n"
     ]
    }
   ],
   "source": [
    "#WAP to create dict inside dict with crud\n",
    "d = {}\n",
    "n = int(input(\"Enter n =\"))\n",
    "for i in range(n):\n",
    "    name = input(\"Enter name =\")\n",
    "    age = int(input(\"Enter age =\"))\n",
    "    add = input(\"Enter add =\")\n",
    "    d[i] = {'name':name,'age':age, 'add':add}\n",
    "      \n",
    "print(d)"
   ]
  },
  {
   "cell_type": "code",
   "execution_count": null,
   "id": "e3a8a284",
   "metadata": {},
   "outputs": [],
   "source": []
  }
 ],
 "metadata": {
  "kernelspec": {
   "display_name": "Python 3 (ipykernel)",
   "language": "python",
   "name": "python3"
  },
  "language_info": {
   "codemirror_mode": {
    "name": "ipython",
    "version": 3
   },
   "file_extension": ".py",
   "mimetype": "text/x-python",
   "name": "python",
   "nbconvert_exporter": "python",
   "pygments_lexer": "ipython3",
   "version": "3.10.9"
  }
 },
 "nbformat": 4,
 "nbformat_minor": 5
}
